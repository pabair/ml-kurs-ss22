{
 "cells": [
  {
   "cell_type": "markdown",
   "id": "cf6d905b",
   "metadata": {},
   "source": [
    "### 1. Laden Sie die Trainingsdaten."
   ]
  },
  {
   "cell_type": "code",
   "execution_count": 163,
   "id": "da1945d7",
   "metadata": {},
   "outputs": [],
   "source": [
    "import pandas as pd\n",
    "# Trainingsdaten aus csv laden, der seperator ist hier allerdings ein ';'\n",
    "data_train = pd.read_csv(\"./data/project/train.csv\", sep=\";\")"
   ]
  },
  {
   "cell_type": "code",
   "execution_count": 164,
   "id": "b07ce577",
   "metadata": {},
   "outputs": [
    {
     "data": {
      "text/html": [
       "<div>\n",
       "<style scoped>\n",
       "    .dataframe tbody tr th:only-of-type {\n",
       "        vertical-align: middle;\n",
       "    }\n",
       "\n",
       "    .dataframe tbody tr th {\n",
       "        vertical-align: top;\n",
       "    }\n",
       "\n",
       "    .dataframe thead th {\n",
       "        text-align: right;\n",
       "    }\n",
       "</style>\n",
       "<table border=\"1\" class=\"dataframe\">\n",
       "  <thead>\n",
       "    <tr style=\"text-align: right;\">\n",
       "      <th></th>\n",
       "      <th>transactionId</th>\n",
       "      <th>basket</th>\n",
       "      <th>customerType</th>\n",
       "      <th>totalAmount</th>\n",
       "      <th>returnLabel</th>\n",
       "    </tr>\n",
       "  </thead>\n",
       "  <tbody>\n",
       "    <tr>\n",
       "      <th>0</th>\n",
       "      <td>9534310106</td>\n",
       "      <td>[4, 3, 4]</td>\n",
       "      <td>new</td>\n",
       "      <td>252.0</td>\n",
       "      <td>1</td>\n",
       "    </tr>\n",
       "    <tr>\n",
       "      <th>1</th>\n",
       "      <td>7202594767</td>\n",
       "      <td>[4, 2, 0, 2, 5]</td>\n",
       "      <td>existing</td>\n",
       "      <td>70.0</td>\n",
       "      <td>0</td>\n",
       "    </tr>\n",
       "    <tr>\n",
       "      <th>2</th>\n",
       "      <td>2737331698</td>\n",
       "      <td>[5]</td>\n",
       "      <td>existing</td>\n",
       "      <td>84.0</td>\n",
       "      <td>0</td>\n",
       "    </tr>\n",
       "    <tr>\n",
       "      <th>3</th>\n",
       "      <td>4868011733</td>\n",
       "      <td>[1, 4, 2, 4]</td>\n",
       "      <td>existing</td>\n",
       "      <td>116.0</td>\n",
       "      <td>0</td>\n",
       "    </tr>\n",
       "    <tr>\n",
       "      <th>4</th>\n",
       "      <td>7622406570</td>\n",
       "      <td>[2, 5, 3, 2, 3, 2, 0]</td>\n",
       "      <td>existing</td>\n",
       "      <td>378.0</td>\n",
       "      <td>0</td>\n",
       "    </tr>\n",
       "  </tbody>\n",
       "</table>\n",
       "</div>"
      ],
      "text/plain": [
       "   transactionId                 basket customerType  totalAmount  returnLabel\n",
       "0     9534310106              [4, 3, 4]          new        252.0            1\n",
       "1     7202594767        [4, 2, 0, 2, 5]     existing         70.0            0\n",
       "2     2737331698                    [5]     existing         84.0            0\n",
       "3     4868011733           [1, 4, 2, 4]     existing        116.0            0\n",
       "4     7622406570  [2, 5, 3, 2, 3, 2, 0]     existing        378.0            0"
      ]
     },
     "execution_count": 164,
     "metadata": {},
     "output_type": "execute_result"
    }
   ],
   "source": [
    "# warum geben wir head aus? \n",
    "data_train.head()"
   ]
  },
  {
   "cell_type": "markdown",
   "id": "5171b937",
   "metadata": {},
   "source": [
    "#### 2. Führen Sie eine kurze EDA durch (Details auf Slide 14)."
   ]
  },
  {
   "cell_type": "code",
   "execution_count": 165,
   "id": "f64396a8",
   "metadata": {},
   "outputs": [
    {
     "name": "stdout",
     "output_type": "stream",
     "text": [
      "       transactionId                                   basket customerType  \\\n",
      "15646     1149900054  [4, 0, 4, 4, 3, 4, 0, 4, 4, 4, 4, 4, 2]     existing   \n",
      "\n",
      "       totalAmount returnLabel  \n",
      "15646       1976.0    returned  \n"
     ]
    },
    {
     "data": {
      "text/plain": [
       "<seaborn.axisgrid.FacetGrid at 0x16cacccc7c0>"
      ]
     },
     "execution_count": 165,
     "metadata": {},
     "output_type": "execute_result"
    },
    {
     "data": {
      "image/png": "[encoded data removed]",
      "text/plain": [
       "<Figure size 360x360 with 1 Axes>"
      ]
     },
     "metadata": {
      "needs_background": "light"
     },
     "output_type": "display_data"
    }
   ],
   "source": [
    "# Was wird für EDA benötigt? Was ist überhaupt EDA\n",
    "\n",
    "\n",
    "import seaborn as sns\n",
    "\n",
    "plotable_date = data_train\n",
    "\n",
    "plotable_date['returnLabel'] = plotable_date['returnLabel'].replace({0:'bought',1:'returned'});\n",
    "\n",
    "\n",
    "print(plotable_date[plotable_date['totalAmount'] == plotable_date['totalAmount'].max()])\n",
    "\n",
    "# histogram für 'customerType' \n",
    "plotable_date['customerType'].value_counts().plot(kind='bar')\n",
    "\n",
    "# histogram für 'totalAmount' \n",
    "plotable_date.hist(column='totalAmount')\n",
    "\n",
    "# verteilung von returnLabel als plot\n",
    "plotable_date['returnLabel'].value_counts().plot(kind='bar')\n",
    "\n",
    "# return label in abhängigkeit von customerType plotten\n",
    "plotable_date[['returnLabel','customerType']].value_counts().plot.bar(rot=0,figsize=(10,5))\n",
    "\n",
    "# TODO Comment \n",
    "plotable_date.boxplot(column='totalAmount', by='returnLabel',figsize=(3,5))\n",
    "\n",
    "sns.displot(plotable_date['totalAmount'])\n"
   ]
  },
  {
   "cell_type": "markdown",
   "id": "61052704",
   "metadata": {},
   "source": []
  },
  {
   "cell_type": "markdown",
   "id": "c8c7bfb3",
   "metadata": {},
   "source": [
    "#### 3. Füllen Sie fehlende Werte in den Trainingsdaten auf."
   ]
  },
  {
   "cell_type": "code",
   "execution_count": 166,
   "id": "0d716063",
   "metadata": {},
   "outputs": [
    {
     "name": "stdout",
     "output_type": "stream",
     "text": [
      "transactionId      0\n",
      "basket             0\n",
      "customerType     442\n",
      "totalAmount      477\n",
      "returnLabel        0\n",
      "dtype: int64\n",
      "existing\n"
     ]
    }
   ],
   "source": [
    "# warum füllen wir die ausgewählten trainingsdaten auf und nicht die andern?\n",
    "\n",
    "print(data_train.isnull().sum())\n",
    "data_train['totalAmount'].fillna(data_train['totalAmount'].mean(), inplace=True)"
   ]
  },
  {
   "cell_type": "markdown",
   "id": "d9dd59e0",
   "metadata": {},
   "source": [
    "#### 4. Transformieren Sie die kategorischen Features mittels One-hot-encoding."
   ]
  },
  {
   "cell_type": "code",
   "execution_count": 167,
   "id": "665f1da1",
   "metadata": {},
   "outputs": [
    {
     "data": {
      "text/html": [
       "<div>\n",
       "<style scoped>\n",
       "    .dataframe tbody tr th:only-of-type {\n",
       "        vertical-align: middle;\n",
       "    }\n",
       "\n",
       "    .dataframe tbody tr th {\n",
       "        vertical-align: top;\n",
       "    }\n",
       "\n",
       "    .dataframe thead th {\n",
       "        text-align: right;\n",
       "    }\n",
       "</style>\n",
       "<table border=\"1\" class=\"dataframe\">\n",
       "  <thead>\n",
       "    <tr style=\"text-align: right;\">\n",
       "      <th></th>\n",
       "      <th>transactionId</th>\n",
       "      <th>basket</th>\n",
       "      <th>totalAmount</th>\n",
       "      <th>is_customer</th>\n",
       "      <th>was_returned</th>\n",
       "    </tr>\n",
       "  </thead>\n",
       "  <tbody>\n",
       "    <tr>\n",
       "      <th>0</th>\n",
       "      <td>9534310106</td>\n",
       "      <td>[4, 3, 4]</td>\n",
       "      <td>252.0</td>\n",
       "      <td>0</td>\n",
       "      <td>1</td>\n",
       "    </tr>\n",
       "    <tr>\n",
       "      <th>1</th>\n",
       "      <td>7202594767</td>\n",
       "      <td>[4, 2, 0, 2, 5]</td>\n",
       "      <td>70.0</td>\n",
       "      <td>1</td>\n",
       "      <td>0</td>\n",
       "    </tr>\n",
       "    <tr>\n",
       "      <th>2</th>\n",
       "      <td>2737331698</td>\n",
       "      <td>[5]</td>\n",
       "      <td>84.0</td>\n",
       "      <td>1</td>\n",
       "      <td>0</td>\n",
       "    </tr>\n",
       "    <tr>\n",
       "      <th>3</th>\n",
       "      <td>4868011733</td>\n",
       "      <td>[1, 4, 2, 4]</td>\n",
       "      <td>116.0</td>\n",
       "      <td>1</td>\n",
       "      <td>0</td>\n",
       "    </tr>\n",
       "    <tr>\n",
       "      <th>4</th>\n",
       "      <td>7622406570</td>\n",
       "      <td>[2, 5, 3, 2, 3, 2, 0]</td>\n",
       "      <td>378.0</td>\n",
       "      <td>1</td>\n",
       "      <td>0</td>\n",
       "    </tr>\n",
       "  </tbody>\n",
       "</table>\n",
       "</div>"
      ],
      "text/plain": [
       "   transactionId                 basket  totalAmount  is_customer  \\\n",
       "0     9534310106              [4, 3, 4]        252.0            0   \n",
       "1     7202594767        [4, 2, 0, 2, 5]         70.0            1   \n",
       "2     2737331698                    [5]         84.0            1   \n",
       "3     4868011733           [1, 4, 2, 4]        116.0            1   \n",
       "4     7622406570  [2, 5, 3, 2, 3, 2, 0]        378.0            1   \n",
       "\n",
       "   was_returned  \n",
       "0             1  \n",
       "1             0  \n",
       "2             0  \n",
       "3             0  \n",
       "4             0  "
      ]
     },
     "execution_count": 167,
     "metadata": {},
     "output_type": "execute_result"
    }
   ],
   "source": [
    "# Warum one hot encoden wir diese daten und nicht andere\n",
    "\n",
    "data_train.head()\n",
    "is_customer = data_train['customerType'].replace({'existing': 1, 'new': 0})\n",
    "data_train['is_customer'] = is_customer\n",
    "data_train.drop(['customerType'], axis=1, inplace=True)\n",
    "was_returned = data_train['returnLabel'].replace({'bought': 0, 'returned': 1})\n",
    "data_train['was_returned'] = was_returned\n",
    "data_train.drop(['returnLabel'], axis=1, inplace=True)\n",
    "data_train.head()"
   ]
  },
  {
   "cell_type": "markdown",
   "id": "5c328ccd",
   "metadata": {},
   "source": [
    "#### 5. Versuchen Sie auf Basis des Attributs basket Features zu bauen (z.B. wie oft kommt jede Kategorie im Basket vor)"
   ]
  },
  {
   "cell_type": "code",
   "execution_count": 168,
   "id": "5871f512",
   "metadata": {},
   "outputs": [
    {
     "data": {
      "text/html": [
       "<div>\n",
       "<style scoped>\n",
       "    .dataframe tbody tr th:only-of-type {\n",
       "        vertical-align: middle;\n",
       "    }\n",
       "\n",
       "    .dataframe tbody tr th {\n",
       "        vertical-align: top;\n",
       "    }\n",
       "\n",
       "    .dataframe thead th {\n",
       "        text-align: right;\n",
       "    }\n",
       "</style>\n",
       "<table border=\"1\" class=\"dataframe\">\n",
       "  <thead>\n",
       "    <tr style=\"text-align: right;\">\n",
       "      <th></th>\n",
       "      <th>transactionId</th>\n",
       "      <th>totalAmount</th>\n",
       "      <th>is_customer</th>\n",
       "      <th>was_returned</th>\n",
       "      <th>zero_count</th>\n",
       "      <th>one_count</th>\n",
       "      <th>two_count</th>\n",
       "      <th>three_count</th>\n",
       "      <th>four_count</th>\n",
       "      <th>five_count</th>\n",
       "    </tr>\n",
       "  </thead>\n",
       "  <tbody>\n",
       "    <tr>\n",
       "      <th>0</th>\n",
       "      <td>9534310106</td>\n",
       "      <td>252.0</td>\n",
       "      <td>0</td>\n",
       "      <td>1</td>\n",
       "      <td>0</td>\n",
       "      <td>0</td>\n",
       "      <td>0</td>\n",
       "      <td>1</td>\n",
       "      <td>2</td>\n",
       "      <td>0</td>\n",
       "    </tr>\n",
       "    <tr>\n",
       "      <th>1</th>\n",
       "      <td>7202594767</td>\n",
       "      <td>70.0</td>\n",
       "      <td>1</td>\n",
       "      <td>0</td>\n",
       "      <td>1</td>\n",
       "      <td>0</td>\n",
       "      <td>2</td>\n",
       "      <td>0</td>\n",
       "      <td>1</td>\n",
       "      <td>1</td>\n",
       "    </tr>\n",
       "    <tr>\n",
       "      <th>2</th>\n",
       "      <td>2737331698</td>\n",
       "      <td>84.0</td>\n",
       "      <td>1</td>\n",
       "      <td>0</td>\n",
       "      <td>0</td>\n",
       "      <td>0</td>\n",
       "      <td>0</td>\n",
       "      <td>0</td>\n",
       "      <td>0</td>\n",
       "      <td>1</td>\n",
       "    </tr>\n",
       "    <tr>\n",
       "      <th>3</th>\n",
       "      <td>4868011733</td>\n",
       "      <td>116.0</td>\n",
       "      <td>1</td>\n",
       "      <td>0</td>\n",
       "      <td>0</td>\n",
       "      <td>1</td>\n",
       "      <td>1</td>\n",
       "      <td>0</td>\n",
       "      <td>2</td>\n",
       "      <td>0</td>\n",
       "    </tr>\n",
       "    <tr>\n",
       "      <th>4</th>\n",
       "      <td>7622406570</td>\n",
       "      <td>378.0</td>\n",
       "      <td>1</td>\n",
       "      <td>0</td>\n",
       "      <td>1</td>\n",
       "      <td>0</td>\n",
       "      <td>3</td>\n",
       "      <td>2</td>\n",
       "      <td>0</td>\n",
       "      <td>1</td>\n",
       "    </tr>\n",
       "  </tbody>\n",
       "</table>\n",
       "</div>"
      ],
      "text/plain": [
       "   transactionId  totalAmount  is_customer  was_returned  zero_count  \\\n",
       "0     9534310106        252.0            0             1           0   \n",
       "1     7202594767         70.0            1             0           1   \n",
       "2     2737331698         84.0            1             0           0   \n",
       "3     4868011733        116.0            1             0           0   \n",
       "4     7622406570        378.0            1             0           1   \n",
       "\n",
       "   one_count  two_count  three_count  four_count  five_count  \n",
       "0          0          0            1           2           0  \n",
       "1          0          2            0           1           1  \n",
       "2          0          0            0           0           1  \n",
       "3          1          1            0           2           0  \n",
       "4          0          3            2           0           1  "
      ]
     },
     "execution_count": 168,
     "metadata": {},
     "output_type": "execute_result"
    }
   ],
   "source": [
    "# warum nutzten wir diese feature, was könnte man noch für feature benutzen? => warum haben wir sie nicht benutzt?\n",
    "\n",
    "data_train['zero_count'] = data_train.basket.map(lambda x: x.count('0'))\n",
    "data_train['one_count'] = data_train.basket.map(lambda x: x.count('1'))\n",
    "data_train['two_count'] = data_train.basket.map(lambda x: x.count('2'))\n",
    "data_train['three_count'] = data_train.basket.map(lambda x: x.count('3'))\n",
    "data_train['four_count'] = data_train.basket.map(lambda x: x.count('4'))\n",
    "data_train['five_count'] = data_train.basket.map(lambda x: x.count('5'))\n",
    "data_train.drop(['basket'], axis=1, inplace=True)\n",
    "data_train.head()\n"
   ]
  },
  {
   "cell_type": "markdown",
   "id": "58b091b9",
   "metadata": {},
   "source": [
    "#### 6. Skalieren Sie die Features mit einem StandardScaler."
   ]
  },
  {
   "cell_type": "code",
   "execution_count": null,
   "id": "034ebe32",
   "metadata": {},
   "outputs": [],
   "source": [
    "import standardScaler as ss"
   ]
  },
  {
   "cell_type": "markdown",
   "id": "5e30e503",
   "metadata": {},
   "source": [
    "### 7. Trainieren Sie die folgenden Klassifikationsmodelle und probieren Sie die angegebenen Hyperparameter mittels Cross-Validation aus:"
   ]
  },
  {
   "cell_type": "markdown",
   "id": "8482adaa",
   "metadata": {},
   "source": [
    "##### 7.1. Logistische Regression: C :[0.1,1,4,5,6,10,30,100] und penalty: [\"l1\", \"l2\"]"
   ]
  },
  {
   "cell_type": "markdown",
   "id": "78b7bc31",
   "metadata": {},
   "source": [
    "#### 7.2. Random Forest: n_estimators: [60,80,100,120,140] und max_depth: [2, 4, 6]"
   ]
  },
  {
   "cell_type": "markdown",
   "id": "19d2654b",
   "metadata": {},
   "source": [
    "\n",
    "##### 7.3. Gradient Boosting Tree: gleiche Hyperparameter wie bei Random Forest."
   ]
  },
  {
   "cell_type": "markdown",
   "id": "6081c6ba",
   "metadata": {},
   "source": [
    "### 8. Laden Sie die Testdaten."
   ]
  },
  {
   "cell_type": "markdown",
   "id": "d9222589",
   "metadata": {},
   "source": [
    "### 9. Entfernen Sie alle Zeilen mit fehlenden Werten."
   ]
  },
  {
   "cell_type": "markdown",
   "id": "ff7d1fda",
   "metadata": {},
   "source": [
    "### 10. Transformieren Sie die Attribute genauso wie bei den Trainingsdaten."
   ]
  },
  {
   "cell_type": "markdown",
   "id": "144123d6",
   "metadata": {},
   "source": [
    "### 11. Skalieren Sie die Daten im gleichem Maß wie die Trainingsdaten."
   ]
  },
  {
   "cell_type": "markdown",
   "id": "79d8bc52",
   "metadata": {},
   "source": [
    "### 12. Machen Sie eine Vorhersage auf den Testdaten mit allen drei Modellen und den jeweils besten Hyperparametern aus der Cross Validation."
   ]
  },
  {
   "cell_type": "markdown",
   "id": "f8875e50",
   "metadata": {},
   "source": [
    "### 13. Berechnen Sie für jedes der drei Modell Accuracy, Precision und Recall."
   ]
  },
  {
   "cell_type": "markdown",
   "id": "8114010e",
   "metadata": {},
   "source": [
    "### 14. Berechnen Sie außerdem die Accuracy auf den Trainingsdaten und vergleichen Sie Accuracy auf Trainings- und Testdaten. Liegt Overfitting vor?"
   ]
  },
  {
   "cell_type": "markdown",
   "id": "c787120c",
   "metadata": {},
   "source": [
    "### 15. Untersuchen Sie wieviele Datenpunkte es in den Testdaten gibt, welche von allen drei Modellen falsch klassifiziert wurden:"
   ]
  },
  {
   "cell_type": "markdown",
   "id": "17efe79b",
   "metadata": {},
   "source": [
    "#### 1. Bestimmen Sie für jedes der drei Modelle die Indizes der Testdatenpunkte auf welchen das jeweilige Modell falsch klassifiziert hat."
   ]
  },
  {
   "cell_type": "markdown",
   "id": "2f4cb1c2",
   "metadata": {},
   "source": [
    "#### 2. Nutzen Sie die set-Klasse in Python um die Anzahl an Datenpunkten zu bestimmen, welche von allen drei Modellen falsch klassifiziert wurden."
   ]
  }
 ],
 "metadata": {
  "interpreter": {
   "hash": "de9c2d20f7bcc6a8487e8ecf0eedb204eeaa3817b534cb0387a1155c7a47adb1"
  },
  "kernelspec": {
   "display_name": "Python 3.8.12 ('ml-env')",
   "language": "python",
   "name": "python3"
  },
  "language_info": {
   "codemirror_mode": {
    "name": "ipython",
    "version": 3
   },
   "file_extension": ".py",
   "mimetype": "text/x-python",
   "name": "python",
   "nbconvert_exporter": "python",
   "pygments_lexer": "ipython3",
   "version": "3.8.12"
  }
 },
 "nbformat": 4,
 "nbformat_minor": 5
}
