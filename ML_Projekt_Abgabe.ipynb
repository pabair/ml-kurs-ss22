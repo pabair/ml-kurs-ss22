{
 "cells": [
  {
   "cell_type": "markdown",
   "id": "cf6d905b",
   "metadata": {},
   "source": [
    "### 1. Laden Sie die Trainingsdaten."
   ]
  },
  {
   "cell_type": "markdown",
   "id": "038aa2ae",
   "metadata": {},
   "source": [
    "Die Trainingsdaten werden über die `read_csv()` Funktion geladen, dabei kann der Trenner (sepperator) über den Parameter `sep=\";\"` festgelegt werden.\n",
    "Zu Anfang ist es immer sinnvoll sich die Daten einmal anzuschauen um ein gefühl dafür zu bekommen mit was man arbeitet. Außerdem können so auch Fehler erkannt werden, beispielsweise ob die Daten richtig geladen wurden oder nicht."
   ]
  },
  {
   "cell_type": "code",
   "execution_count": 1,
   "id": "da1945d7",
   "metadata": {},
   "outputs": [
    {
     "data": {
      "text/html": [
       "<div>\n",
       "<style scoped>\n",
       "    .dataframe tbody tr th:only-of-type {\n",
       "        vertical-align: middle;\n",
       "    }\n",
       "\n",
       "    .dataframe tbody tr th {\n",
       "        vertical-align: top;\n",
       "    }\n",
       "\n",
       "    .dataframe thead th {\n",
       "        text-align: right;\n",
       "    }\n",
       "</style>\n",
       "<table border=\"1\" class=\"dataframe\">\n",
       "  <thead>\n",
       "    <tr style=\"text-align: right;\">\n",
       "      <th></th>\n",
       "      <th>transactionId</th>\n",
       "      <th>basket</th>\n",
       "      <th>customerType</th>\n",
       "      <th>totalAmount</th>\n",
       "      <th>returnLabel</th>\n",
       "    </tr>\n",
       "  </thead>\n",
       "  <tbody>\n",
       "    <tr>\n",
       "      <th>0</th>\n",
       "      <td>9534310106</td>\n",
       "      <td>[4, 3, 4]</td>\n",
       "      <td>new</td>\n",
       "      <td>252.0</td>\n",
       "      <td>1</td>\n",
       "    </tr>\n",
       "    <tr>\n",
       "      <th>1</th>\n",
       "      <td>7202594767</td>\n",
       "      <td>[4, 2, 0, 2, 5]</td>\n",
       "      <td>existing</td>\n",
       "      <td>70.0</td>\n",
       "      <td>0</td>\n",
       "    </tr>\n",
       "    <tr>\n",
       "      <th>2</th>\n",
       "      <td>2737331698</td>\n",
       "      <td>[5]</td>\n",
       "      <td>existing</td>\n",
       "      <td>84.0</td>\n",
       "      <td>0</td>\n",
       "    </tr>\n",
       "    <tr>\n",
       "      <th>3</th>\n",
       "      <td>4868011733</td>\n",
       "      <td>[1, 4, 2, 4]</td>\n",
       "      <td>existing</td>\n",
       "      <td>116.0</td>\n",
       "      <td>0</td>\n",
       "    </tr>\n",
       "    <tr>\n",
       "      <th>4</th>\n",
       "      <td>7622406570</td>\n",
       "      <td>[2, 5, 3, 2, 3, 2, 0]</td>\n",
       "      <td>existing</td>\n",
       "      <td>378.0</td>\n",
       "      <td>0</td>\n",
       "    </tr>\n",
       "  </tbody>\n",
       "</table>\n",
       "</div>"
      ],
      "text/plain": [
       "   transactionId                 basket customerType  totalAmount  returnLabel\n",
       "0     9534310106              [4, 3, 4]          new        252.0            1\n",
       "1     7202594767        [4, 2, 0, 2, 5]     existing         70.0            0\n",
       "2     2737331698                    [5]     existing         84.0            0\n",
       "3     4868011733           [1, 4, 2, 4]     existing        116.0            0\n",
       "4     7622406570  [2, 5, 3, 2, 3, 2, 0]     existing        378.0            0"
      ]
     },
     "execution_count": 1,
     "metadata": {},
     "output_type": "execute_result"
    }
   ],
   "source": [
    "import pandas as pd\n",
    "\n",
    "# Trainingsdaten aus csv laden, der seperator ist hier allerdings ein ';'\n",
    "data_train = pd.read_csv(\"./data/project/train.csv\", sep=\";\")\n",
    "\n",
    "data_train.head()"
   ]
  },
  {
   "cell_type": "markdown",
   "id": "5171b937",
   "metadata": {},
   "source": [
    "#### 2. Führen Sie eine kurze EDA durch (Details auf Slide 14)."
   ]
  },
  {
   "cell_type": "markdown",
   "id": "8c54cb0f",
   "metadata": {},
   "source": [
    "**Exploratory Data Analysis** oder kurz **EDA** ist der Prozess Daten über verschiedene Darstellungen, primär grafische Darstellungen, zu betrachten um einen überblick zu erlangen und erste Muster oder Abweichungen zu erkennen oder auch Hypothesen und Annahmen zu prüfen.\n",
    "\n",
    "\n",
    "- `figsize`: die Größe des Plottes der angezeigt werden soll\n",
    "- `rot`: die Rotation des Textes im Plot\n",
    "\n",
    "Wir bereiten hier die Daten zunächst so auf, dass aus den erzeugten Diagrammen einfacher Informationen abgelesen werden können."
   ]
  },
  {
   "cell_type": "code",
   "execution_count": 2,
   "id": "f64396a8",
   "metadata": {},
   "outputs": [],
   "source": [
    "plotable_data = data_train\n",
    "\n",
    "# daten aufbereiten um sie besser ablesen zu können\n",
    "plotable_data['returnLabel'] = plotable_data['returnLabel'].replace({0:'bought',1:'returned'})"
   ]
  },
  {
   "cell_type": "markdown",
   "id": "c8b0a3b2",
   "metadata": {},
   "source": [
    "##### 2.1 Histogram für `customerType`\n",
    "Hier wird gezeigt wie viele Bestellungen von Neukunden bzw Bestandskunden ausgingen."
   ]
  },
  {
   "cell_type": "code",
   "execution_count": 3,
   "id": "216f304f",
   "metadata": {},
   "outputs": [
    {
     "data": {
      "text/plain": [
       "<AxesSubplot:title={'center':'customerType'}>"
      ]
     },
     "execution_count": 3,
     "metadata": {},
     "output_type": "execute_result"
    },
    {
     "data": {
      "image/png": "[encoded data removed]",
      "text/plain": [
       "<Figure size 432x288 with 1 Axes>"
      ]
     },
     "metadata": {
      "needs_background": "light"
     },
     "output_type": "display_data"
    }
   ],
   "source": [
    "# histogram für 'customerType'\n",
    "plotable_data['customerType'].value_counts().plot(kind='bar', title='customerType', rot=0)"
   ]
  },
  {
   "cell_type": "markdown",
   "id": "33a1f2de",
   "metadata": {},
   "source": [
    "##### 2.2 Histogram für `customerType`\n",
    "Hier wird gezeigt wie viele Bestellungen in einem interval von ~125€ liegen. Es ist zu sehen, dass günstige Bestellungen bis 125€ deutlich häufiger auftreten als Bestellugen von 125-250€.\\\n",
    "Außerdem ist zu sehen, dass gut über 50% der Bestellugen weniger als 250€ kosten."
   ]
  },
  {
   "cell_type": "code",
   "execution_count": 4,
   "id": "21228dce",
   "metadata": {},
   "outputs": [
    {
     "name": "stdout",
     "output_type": "stream",
     "text": [
      "22400\n"
     ]
    },
    {
     "data": {
      "image/png": "[encoded data removed]",
      "text/plain": [
       "<Figure size 432x288 with 1 Axes>"
      ]
     },
     "metadata": {
      "needs_background": "light"
     },
     "output_type": "display_data"
    }
   ],
   "source": [
    "# histogram für 'totalAmount'\n",
    "# bins ist die Anzahl der Intervalle in welche das Histogram aufgeteilt werden soll.\n",
    "plotable_data.hist(column='totalAmount',bins=16)\n",
    "print(len(plotable_data))\n"
   ]
  },
  {
   "cell_type": "markdown",
   "id": "f0a5852b",
   "metadata": {},
   "source": [
    "##### 2.3 Histogram für `returnLabel`\n",
    "Zu sehen ist das Histogram für `returnLabel`. Es zeigt uns die Aufteilung, wie viele Bestellungen insgesamt zurückgeschickt oder nicht zurückgeschickt wurden."
   ]
  },
  {
   "cell_type": "code",
   "execution_count": 5,
   "id": "dd24f3b7",
   "metadata": {},
   "outputs": [
    {
     "name": "stdout",
     "output_type": "stream",
     "text": [
      "Bei ~ 29.7 % der Bestellungen wird etwas zurück gesendet.\n"
     ]
    },
    {
     "data": {
      "image/png": "[encoded data removed]",
      "text/plain": [
       "<Figure size 432x288 with 1 Axes>"
      ]
     },
     "metadata": {
      "needs_background": "light"
     },
     "output_type": "display_data"
    }
   ],
   "source": [
    "# verteilung von returnLabel als plot\n",
    "plotable_data['returnLabel'].value_counts().plot(kind='bar', title='returnLabel',rot=0)\n",
    "\n",
    "returnData = plotable_data['returnLabel'].value_counts()\n",
    "percentReturned = returnData['returned']/(returnData['bought']+returnData['returned'])\n",
    "\n",
    "print(\"Bei ~\",(percentReturned*100).round(2),\"% der Bestellungen wird etwas zurück gesendet.\")"
   ]
  },
  {
   "cell_type": "markdown",
   "id": "f310cab2",
   "metadata": {},
   "source": [
    "##### 2.4 Histogram für `returnLabel` in Abhängigkeit zu `reuturnLabel`\n",
    "Der Folgende Graph ist eine erweiterung des vorherigen und zeigt jede Kundengruppe (neuer Kunde & existierender Kunde) und wie oft eine Bestellung zurück gegangen ist. Dabei ist klar zu erkennen, dass Neukunden fast gleich viel zurücksenden wie behalten, Bestandskunden hingegen senden seltener ihre Bestellung zurück.\\\n",
    "Außerdem kann man auch gut erkennen, dass Bestandskunden einen wesentlich größeren Teil der Bestellungen ausmachen."
   ]
  },
  {
   "cell_type": "code",
   "execution_count": 6,
   "id": "e00b5bd2",
   "metadata": {},
   "outputs": [
    {
     "data": {
      "text/plain": [
       "<AxesSubplot:title={'center':'returnLabel in abhängigkeit von customerType'}, xlabel='returnLabel,customerType'>"
      ]
     },
     "execution_count": 6,
     "metadata": {},
     "output_type": "execute_result"
    },
    {
     "data": {
      "image/png": "[encoded data removed]",
      "text/plain": [
       "<Figure size 720x360 with 1 Axes>"
      ]
     },
     "metadata": {
      "needs_background": "light"
     },
     "output_type": "display_data"
    }
   ],
   "source": [
    "# return label in abhängigkeit von customerType plotten\n",
    "plotable_data[['returnLabel','customerType']].value_counts().plot.bar(rot=0,figsize=(10,5),title='returnLabel in abhängigkeit von customerType')\n"
   ]
  },
  {
   "cell_type": "markdown",
   "id": "9cf6c1c5",
   "metadata": {},
   "source": [
    "##### 2.5 Boxplot für `totalAmount`\n",
    "Für die folgenden wird ein Boxplot dargestellt. Der Boxplot beschreibt die Verteilung der Daten.\\\n",
    "Ausreißer werden wie folgt berechnet:\\\n",
    "Nach unten: 25%-Quantil - 1.5*(75%-Quantil - 25%-Quantil)\\\n",
    "Nach oben: 75%-Quantil + 1.5*(75%-Quantil - 25%-Quantil)\n",
    "\n",
    "# TODO!!"
   ]
  },
  {
   "cell_type": "code",
   "execution_count": 7,
   "id": "8ed7740f",
   "metadata": {},
   "outputs": [
    {
     "data": {
      "text/plain": [
       "<AxesSubplot:title={'center':'totalAmount'}, xlabel='returnLabel'>"
      ]
     },
     "execution_count": 7,
     "metadata": {},
     "output_type": "execute_result"
    },
    {
     "data": {
      "image/png": "[encoded data removed]",
      "text/plain": [
       "<Figure size 216x360 with 1 Axes>"
      ]
     },
     "metadata": {
      "needs_background": "light"
     },
     "output_type": "display_data"
    }
   ],
   "source": [
    "# boxplot für 'totalAmount' in Abhängigkeit von 'returnLabel'\n",
    "plotable_data.boxplot(column='totalAmount', by='returnLabel',figsize=(3,5))"
   ]
  },
  {
   "cell_type": "markdown",
   "id": "45684604",
   "metadata": {},
   "source": [
    "##### 2.5 Histogram für `totalAmount` mit Abhängigkeit zu `returnLabel`\n",
    "Das hier gezeigte Histogram zeigt deutlich, das teurere Bestellungen öfter zurück gesendet werden. Dies ist an der Differenz zwischen `returned` und `bought` zu erkennen, welche je teurer es wird, kleiner wird.\\\n",
    "- `hue`: beschreibt die Farbe für die übereinander liegenden Histogramme (`returned` und `bought`)"
   ]
  },
  {
   "cell_type": "code",
   "execution_count": 8,
   "id": "fa7cab45",
   "metadata": {},
   "outputs": [
    {
     "data": {
      "text/plain": [
       "<seaborn.axisgrid.FacetGrid at 0x212d5276110>"
      ]
     },
     "execution_count": 8,
     "metadata": {},
     "output_type": "execute_result"
    },
    {
     "data": {
      "image/png": "[encoded data removed]",
      "text/plain": [
       "<Figure size 439.125x360 with 1 Axes>"
      ]
     },
     "metadata": {
      "needs_background": "light"
     },
     "output_type": "display_data"
    }
   ],
   "source": [
    "import seaborn as sns\n",
    "\n",
    "sns.displot(plotable_data, x=\"totalAmount\", hue=\"returnLabel\")"
   ]
  },
  {
   "cell_type": "markdown",
   "id": "c8c7bfb3",
   "metadata": {},
   "source": [
    "#### 3. Füllen Sie fehlende Werte in den Trainingsdaten auf."
   ]
  },
  {
   "cell_type": "markdown",
   "id": "d7cb1ebd",
   "metadata": {},
   "source": [
    "Hier werden alle Zeilen aufgefüllt, in denen `totalAmount` keinen Wert, bzw einen ungültigen Wert besitzt. Dazu wird der Durchschnitt der übrigen Werte genutzt. Der Durchschnitt wird genutzt da dieser die Gewichtung des Kompletten Datensatzes nicht beeinflusst.\n",
    "\n",
    "Es wird ausschließlich `totalAmount` aufgefüllt, da `totalAmount` ein nummerischer Wert ist. Alle anderen Feature, welche auch bereinigt werden müssen, werden auf eine andere Art und Weise behandelt, da es sich bei diesen nicht um nummerische sondern kategorische Feature handelt. "
   ]
  },
  {
   "cell_type": "code",
   "execution_count": 9,
   "id": "0d716063",
   "metadata": {},
   "outputs": [
    {
     "name": "stdout",
     "output_type": "stream",
     "text": [
      "transactionId      0\n",
      "basket             0\n",
      "customerType     442\n",
      "totalAmount      477\n",
      "returnLabel        0\n",
      "dtype: int64\n",
      "transactionId      0\n",
      "basket             0\n",
      "customerType     442\n",
      "totalAmount        0\n",
      "returnLabel        0\n",
      "dtype: int64\n"
     ]
    }
   ],
   "source": [
    "# warum füllen wir die ausgewählten trainingsdaten auf und nicht die andern?\n",
    "# hier wird der median genutzt um die null Werte von totalAmount zu ersetzen, der Durchschnitt wird genutzt da dieser keine verzerrung der tendenzen der daten einfuehrt\n",
    "# customerType wird später beim OnehotEncoding bearbeitet und die null values dadurch entfernt\n",
    "\n",
    "print(data_train.isnull().sum())\n",
    "data_train['totalAmount'].fillna(data_train['totalAmount'].mean(), inplace=True)\n",
    "print(data_train.isnull().sum())"
   ]
  },
  {
   "cell_type": "markdown",
   "id": "d9dd59e0",
   "metadata": {},
   "source": [
    "#### 4. Transformieren Sie die kategorischen Features mittels One-hot-encoding."
   ]
  },
  {
   "cell_type": "markdown",
   "id": "acb1d029",
   "metadata": {},
   "source": [
    "Hier werden die kategorischen Features `customerType` und `returnLabel` \"One-hot-encoded\". Das heißt jedes kategorische Feature wird in mehrere Feature transformiert, um genau zu sein in so viele wie es kategorien in dem Featrue gibt.\\\n",
    "One-hot-encoding bietet den Vorteil, dass auch Tupel/Zeilen zum lernen verwendet werden können, in denen die Datenpunkte fehlen.\\\n",
    "Wir teilen wie folgt auf:\n",
    "- `customerType` :\n",
    "    - `is_new_customer` => 1 wenn `customerType` = \"new\", ansonsten 0\n",
    "    - `is_existing_customer` => 1 wenn `customerType` = \"existing\", ansonsten 0\n",
    "\n",
    "Da in `returnLabel` keine Daten fehlen und es sich um eine binäre klassifizierung handelt ist ein klassisches One-hot-encoding nicht nötig. Statdessen wird direkt in `was_returned` transformiert.\n",
    "- `returnLabel`\n",
    "    - `was_returned` => 1 wenn `returnLabel` = \"returned\", 0 falls `returnLabel` = \"bought\""
   ]
  },
  {
   "cell_type": "code",
   "execution_count": 10,
   "id": "665f1da1",
   "metadata": {},
   "outputs": [
    {
     "data": {
      "text/html": [
       "<div>\n",
       "<style scoped>\n",
       "    .dataframe tbody tr th:only-of-type {\n",
       "        vertical-align: middle;\n",
       "    }\n",
       "\n",
       "    .dataframe tbody tr th {\n",
       "        vertical-align: top;\n",
       "    }\n",
       "\n",
       "    .dataframe thead th {\n",
       "        text-align: right;\n",
       "    }\n",
       "</style>\n",
       "<table border=\"1\" class=\"dataframe\">\n",
       "  <thead>\n",
       "    <tr style=\"text-align: right;\">\n",
       "      <th></th>\n",
       "      <th>transactionId</th>\n",
       "      <th>basket</th>\n",
       "      <th>totalAmount</th>\n",
       "      <th>is_new_customer</th>\n",
       "      <th>is_existing_customer</th>\n",
       "      <th>was_returned</th>\n",
       "    </tr>\n",
       "  </thead>\n",
       "  <tbody>\n",
       "    <tr>\n",
       "      <th>0</th>\n",
       "      <td>9534310106</td>\n",
       "      <td>[4, 3, 4]</td>\n",
       "      <td>252.0</td>\n",
       "      <td>1.0</td>\n",
       "      <td>0.0</td>\n",
       "      <td>1</td>\n",
       "    </tr>\n",
       "    <tr>\n",
       "      <th>1</th>\n",
       "      <td>7202594767</td>\n",
       "      <td>[4, 2, 0, 2, 5]</td>\n",
       "      <td>70.0</td>\n",
       "      <td>0.0</td>\n",
       "      <td>1.0</td>\n",
       "      <td>0</td>\n",
       "    </tr>\n",
       "    <tr>\n",
       "      <th>2</th>\n",
       "      <td>2737331698</td>\n",
       "      <td>[5]</td>\n",
       "      <td>84.0</td>\n",
       "      <td>0.0</td>\n",
       "      <td>1.0</td>\n",
       "      <td>0</td>\n",
       "    </tr>\n",
       "    <tr>\n",
       "      <th>3</th>\n",
       "      <td>4868011733</td>\n",
       "      <td>[1, 4, 2, 4]</td>\n",
       "      <td>116.0</td>\n",
       "      <td>0.0</td>\n",
       "      <td>1.0</td>\n",
       "      <td>0</td>\n",
       "    </tr>\n",
       "    <tr>\n",
       "      <th>4</th>\n",
       "      <td>7622406570</td>\n",
       "      <td>[2, 5, 3, 2, 3, 2, 0]</td>\n",
       "      <td>378.0</td>\n",
       "      <td>0.0</td>\n",
       "      <td>1.0</td>\n",
       "      <td>0</td>\n",
       "    </tr>\n",
       "  </tbody>\n",
       "</table>\n",
       "</div>"
      ],
      "text/plain": [
       "   transactionId                 basket  totalAmount  is_new_customer  \\\n",
       "0     9534310106              [4, 3, 4]        252.0              1.0   \n",
       "1     7202594767        [4, 2, 0, 2, 5]         70.0              0.0   \n",
       "2     2737331698                    [5]         84.0              0.0   \n",
       "3     4868011733           [1, 4, 2, 4]        116.0              0.0   \n",
       "4     7622406570  [2, 5, 3, 2, 3, 2, 0]        378.0              0.0   \n",
       "\n",
       "   is_existing_customer  was_returned  \n",
       "0                   0.0             1  \n",
       "1                   1.0             0  \n",
       "2                   1.0             0  \n",
       "3                   1.0             0  \n",
       "4                   1.0             0  "
      ]
     },
     "execution_count": 10,
     "metadata": {},
     "output_type": "execute_result"
    }
   ],
   "source": [
    "# berechne feature und füge die berechneten feature dem DatenFrame hinzu\n",
    "data_train['is_new_customer'] = data_train['customerType'].replace({'existing': 0, 'new': 1}).fillna(0)\n",
    "data_train['is_existing_customer'] = data_train['customerType'].replace({'existing': 1, 'new': 0}).fillna(0)\n",
    "data_train['was_returned'] = data_train['returnLabel'].replace({'bought': 0, 'returned': 1})\n",
    "\n",
    "# nicht benötigte feature löschen\n",
    "data_train.drop(['customerType'], axis=1, inplace=True)\n",
    "data_train.drop(['returnLabel'], axis=1, inplace=True)\n",
    "\n",
    "# datensatz anschauen\n",
    "data_train.head()"
   ]
  },
  {
   "cell_type": "markdown",
   "id": "5c328ccd",
   "metadata": {},
   "source": [
    "#### 5. Versuchen Sie auf Basis des Attributs basket Features zu bauen (z.B. wie oft kommt jede Kategorie im Basket vor)"
   ]
  },
  {
   "cell_type": "markdown",
   "id": "b23a121c",
   "metadata": {},
   "source": [
    "In diesem Teil werden geeignete Features aus dem Feature `basket` erzeugt:\n",
    "\n",
    "| Feature       | Beschreibung                                                          |\n",
    "|---------------|-----------------------------------------------------------------------|\n",
    "| `zero_count`  | die Anzahl von bestellten Büchern der Kategorie 0                     |\n",
    "| `one_count`   | die Anzahl von bestellten Büchern der Kategorie 1                     |\n",
    "| `two_count`   | die Anzahl von bestellten Büchern der Kategorie 2                     |\n",
    "| `three_count` | die Anzahl von bestellten Büchern der Kategorie 3                     |\n",
    "| `four_count`  | die Anzahl von bestellten Büchern der Kategorie 4                     |\n",
    "| `five_count`  | die Anzahl von bestellten Büchern der Kategorie 5                     |\n",
    "| `max_count`   | die maximale Anzahl von bestellten Büchern aus der gleichen Kategorie |\n",
    "| `basket_size` | die Anzahl von bestellten Büchern                                     |\n",
    "\n",
    "\n",
    "Hier wird oft die .map() Funktion genutz. Map is eine Funktion die jedem Element einer Menge einen neuen Wert zuordnet. Dieser wert wird über die übergebene lamda funktion ermittelt. \n",
    "Für `zero_count` sieht die Funktion wie folgt aus (x entspricht hierbei einem Basket, bspw: [1,2,4,5,0]):\\\n",
    "x ⟼ x.count('0')"
   ]
  },
  {
   "cell_type": "code",
   "execution_count": 11,
   "id": "5871f512",
   "metadata": {},
   "outputs": [
    {
     "data": {
      "text/html": [
       "<div>\n",
       "<style scoped>\n",
       "    .dataframe tbody tr th:only-of-type {\n",
       "        vertical-align: middle;\n",
       "    }\n",
       "\n",
       "    .dataframe tbody tr th {\n",
       "        vertical-align: top;\n",
       "    }\n",
       "\n",
       "    .dataframe thead th {\n",
       "        text-align: right;\n",
       "    }\n",
       "</style>\n",
       "<table border=\"1\" class=\"dataframe\">\n",
       "  <thead>\n",
       "    <tr style=\"text-align: right;\">\n",
       "      <th></th>\n",
       "      <th>transactionId</th>\n",
       "      <th>totalAmount</th>\n",
       "      <th>is_new_customer</th>\n",
       "      <th>is_existing_customer</th>\n",
       "      <th>was_returned</th>\n",
       "      <th>zero_count</th>\n",
       "      <th>one_count</th>\n",
       "      <th>two_count</th>\n",
       "      <th>three_count</th>\n",
       "      <th>four_count</th>\n",
       "      <th>five_count</th>\n",
       "      <th>basket_size</th>\n",
       "      <th>max_count</th>\n",
       "    </tr>\n",
       "  </thead>\n",
       "  <tbody>\n",
       "    <tr>\n",
       "      <th>0</th>\n",
       "      <td>9534310106</td>\n",
       "      <td>252.0</td>\n",
       "      <td>1.0</td>\n",
       "      <td>0.0</td>\n",
       "      <td>1</td>\n",
       "      <td>0</td>\n",
       "      <td>0</td>\n",
       "      <td>0</td>\n",
       "      <td>1</td>\n",
       "      <td>2</td>\n",
       "      <td>0</td>\n",
       "      <td>3</td>\n",
       "      <td>2</td>\n",
       "    </tr>\n",
       "    <tr>\n",
       "      <th>1</th>\n",
       "      <td>7202594767</td>\n",
       "      <td>70.0</td>\n",
       "      <td>0.0</td>\n",
       "      <td>1.0</td>\n",
       "      <td>0</td>\n",
       "      <td>1</td>\n",
       "      <td>0</td>\n",
       "      <td>2</td>\n",
       "      <td>0</td>\n",
       "      <td>1</td>\n",
       "      <td>1</td>\n",
       "      <td>5</td>\n",
       "      <td>2</td>\n",
       "    </tr>\n",
       "    <tr>\n",
       "      <th>2</th>\n",
       "      <td>2737331698</td>\n",
       "      <td>84.0</td>\n",
       "      <td>0.0</td>\n",
       "      <td>1.0</td>\n",
       "      <td>0</td>\n",
       "      <td>0</td>\n",
       "      <td>0</td>\n",
       "      <td>0</td>\n",
       "      <td>0</td>\n",
       "      <td>0</td>\n",
       "      <td>1</td>\n",
       "      <td>1</td>\n",
       "      <td>1</td>\n",
       "    </tr>\n",
       "    <tr>\n",
       "      <th>3</th>\n",
       "      <td>4868011733</td>\n",
       "      <td>116.0</td>\n",
       "      <td>0.0</td>\n",
       "      <td>1.0</td>\n",
       "      <td>0</td>\n",
       "      <td>0</td>\n",
       "      <td>1</td>\n",
       "      <td>1</td>\n",
       "      <td>0</td>\n",
       "      <td>2</td>\n",
       "      <td>0</td>\n",
       "      <td>4</td>\n",
       "      <td>2</td>\n",
       "    </tr>\n",
       "    <tr>\n",
       "      <th>4</th>\n",
       "      <td>7622406570</td>\n",
       "      <td>378.0</td>\n",
       "      <td>0.0</td>\n",
       "      <td>1.0</td>\n",
       "      <td>0</td>\n",
       "      <td>1</td>\n",
       "      <td>0</td>\n",
       "      <td>3</td>\n",
       "      <td>2</td>\n",
       "      <td>0</td>\n",
       "      <td>1</td>\n",
       "      <td>7</td>\n",
       "      <td>3</td>\n",
       "    </tr>\n",
       "  </tbody>\n",
       "</table>\n",
       "</div>"
      ],
      "text/plain": [
       "   transactionId  totalAmount  is_new_customer  is_existing_customer  \\\n",
       "0     9534310106        252.0              1.0                   0.0   \n",
       "1     7202594767         70.0              0.0                   1.0   \n",
       "2     2737331698         84.0              0.0                   1.0   \n",
       "3     4868011733        116.0              0.0                   1.0   \n",
       "4     7622406570        378.0              0.0                   1.0   \n",
       "\n",
       "   was_returned  zero_count  one_count  two_count  three_count  four_count  \\\n",
       "0             1           0          0          0            1           2   \n",
       "1             0           1          0          2            0           1   \n",
       "2             0           0          0          0            0           0   \n",
       "3             0           0          1          1            0           2   \n",
       "4             0           1          0          3            2           0   \n",
       "\n",
       "   five_count  basket_size  max_count  \n",
       "0           0            3          2  \n",
       "1           1            5          2  \n",
       "2           1            1          1  \n",
       "3           0            4          2  \n",
       "4           1            7          3  "
      ]
     },
     "execution_count": 11,
     "metadata": {},
     "output_type": "execute_result"
    }
   ],
   "source": [
    "# warum nutzten wir diese feature, was könnte man noch für feature benutzen? => warum haben wir sie nicht benutzt?\n",
    "\n",
    "# berechne feature und füge die berechneten feature dem DatenFrame hinzu\n",
    "data_train['zero_count'] = data_train.basket.map(lambda x: x.count('0'))\n",
    "data_train['one_count'] = data_train.basket.map(lambda x: x.count('1'))\n",
    "data_train['two_count'] = data_train.basket.map(lambda x: x.count('2'))\n",
    "data_train['three_count'] = data_train.basket.map(lambda x: x.count('3'))\n",
    "data_train['four_count'] = data_train.basket.map(lambda x: x.count('4'))\n",
    "data_train['five_count'] = data_train.basket.map(lambda x: x.count('5'))\n",
    "\n",
    "data_train['basket_size'] = data_train.basket.map(lambda x: x.count('0') + x.count('1') + x.count('2') + x.count('3') + x.count('4') + x.count('5'))\n",
    "\n",
    "data_train['max_count'] = data_train.basket.map(lambda x: max(x.count('0'), x.count('1'), x.count('2'), x.count('3'), x.count('4'), x.count('5')))\n",
    "\n",
    "# nicht benötigte feature löschen\n",
    "data_train.drop(['basket'], axis=1, inplace=True)\n",
    "\n",
    "# datensatz anschauen\n",
    "data_train.head()"
   ]
  },
  {
   "cell_type": "markdown",
   "id": "8d2d915d",
   "metadata": {},
   "source": [
    "Zusätzlich sollten alle Feature entfernt werden, welche offensichtlich kein zusammenhang mit der vorhersage haben, das ist in unserm Fall nur die `transactionId`."
   ]
  },
  {
   "cell_type": "code",
   "execution_count": 12,
   "id": "f40382d8",
   "metadata": {},
   "outputs": [],
   "source": [
    "data_train.drop(['transactionId'], axis=1, inplace=True)"
   ]
  },
  {
   "cell_type": "markdown",
   "id": "58b091b9",
   "metadata": {},
   "source": [
    "#### 6. Skalieren Sie die Features mit einem StandardScaler.\n",
    "Die Features Müssen Skaliert werden da ansonsten Feature mit sehr großen Wertebereichen den Gradient verzerren würden.\n",
    "Der Gradient ist eine Ebene (also 2D), auf welcher sich Vektoren befinden, die in die Richtung der größten Steigung zeigen."
   ]
  },
  {
   "cell_type": "code",
   "execution_count": 13,
   "id": "034ebe32",
   "metadata": {},
   "outputs": [
    {
     "name": "stdout",
     "output_type": "stream",
     "text": [
      "[[-0.03282349  1.55861197 -1.48725587 ... -0.64410553 -0.60727524\n",
      "  -0.13935946]\n",
      " [-0.87945944 -0.64159651  0.67237926 ...  0.52709049  0.13320354\n",
      "  -0.13935946]\n",
      " [-0.8143336  -0.64159651  0.67237926 ...  0.52709049 -1.34775403\n",
      "  -1.01426189]\n",
      " ...\n",
      " [-0.04677903  1.55861197 -1.48725587 ... -0.64410553 -0.60727524\n",
      "  -1.01426189]\n",
      " [-0.83294098 -0.64159651  0.67237926 ...  2.86948253  1.24392171\n",
      "   0.73554297]\n",
      " [ 1.08361952  1.55861197 -1.48725587 ... -0.64410553 -0.23703585\n",
      "  -0.13935946]]\n"
     ]
    }
   ],
   "source": [
    "# Wars und wie mach der StandardScaler scaler denn seine aufgabe? \n",
    "\n",
    "\n",
    "from sklearn.preprocessing import StandardScaler\n",
    "X_train = data_train.drop(['was_returned'], axis=1)\n",
    "Y_train = data_train['was_returned']\n",
    "scaler = StandardScaler().fit(X_train)\n",
    "X_scaled = scaler.transform(X_train)\n",
    "print(X_scaled)"
   ]
  },
  {
   "cell_type": "markdown",
   "id": "5e30e503",
   "metadata": {},
   "source": [
    "### 7. Trainieren Sie die folgenden Klassifikationsmodelle und probieren Sie die angegebenen Hyperparameter mittels Cross-Validation aus:"
   ]
  },
  {
   "cell_type": "markdown",
   "id": "8482adaa",
   "metadata": {},
   "source": [
    "##### 7.1. Logistische Regression: C :[0.1,1,4,5,6,10,30,100] und penalty: [\"l1\", \"l2\"]"
   ]
  },
  {
   "cell_type": "code",
   "execution_count": 14,
   "id": "05674e1c",
   "metadata": {},
   "outputs": [
    {
     "name": "stdout",
     "output_type": "stream",
     "text": [
      "{'C': 1, 'penalty': 'l1'}\n"
     ]
    }
   ],
   "source": [
    "# C = Regularisierungsfaktoren\n",
    "# l1 = lasso Regression\n",
    "# l2 = ridge Regression\n",
    "# jobs = CPU cores (-1 => alle)\n",
    "# scoring accuracy, da wir uns nach Aufgabenstellung nur für die Genauigkeit interessieren\n",
    "\n",
    "\n",
    "from sklearn.linear_model import LogisticRegression\n",
    "from sklearn.model_selection import GridSearchCV\n",
    "parameters = {'C': [0.1,1,4,5,10,30,100], 'penalty': [\"l1\",\"l2\"]}\n",
    "grid_search = GridSearchCV(LogisticRegression(solver='liblinear'), param_grid=parameters, n_jobs=-1, scoring='accuracy')\n",
    "grid_search.fit(X_scaled, Y_train)\n",
    "logReg_best_params = grid_search.best_params_\n",
    "print(logReg_best_params)"
   ]
  },
  {
   "cell_type": "markdown",
   "id": "78b7bc31",
   "metadata": {},
   "source": [
    "#### 7.2. Random Forest: n_estimators: [60,80,100,120,140] und max_depth: [2, 4, 6]"
   ]
  },
  {
   "cell_type": "code",
   "execution_count": 15,
   "id": "bfe8dde1",
   "metadata": {},
   "outputs": [],
   "source": [
    "# parameter zuerst festlegen => überall gleich\n",
    "# n_estimators = Anzahl der Bäume die trainiert werden\n",
    "# max_depth = maximale Baumtiefe\n",
    "\n",
    "parameters = {'n_estimators': [60,80,100,120,140], 'max_depth': [2,4,6]}\n",
    "model_scoring='accuracy'"
   ]
  },
  {
   "cell_type": "code",
   "execution_count": 16,
   "id": "cfa1629e",
   "metadata": {},
   "outputs": [
    {
     "name": "stdout",
     "output_type": "stream",
     "text": [
      "{'max_depth': 6, 'n_estimators': 80}\n"
     ]
    }
   ],
   "source": [
    "# was ist RandomForestClassifier und wie funktioniert der?\n",
    "# was ist GridSearchCV => Parameter beschreiben\n",
    "\n",
    "from sklearn.ensemble import RandomForestClassifier\n",
    "grid_search = GridSearchCV(RandomForestClassifier(), param_grid=parameters, n_jobs=-1, scoring=model_scoring)\n",
    "grid_search.fit(X_scaled, Y_train)\n",
    "rf_best_params = grid_search.best_params_\n",
    "print(rf_best_params)\n",
    "\n"
   ]
  },
  {
   "cell_type": "markdown",
   "id": "19d2654b",
   "metadata": {},
   "source": [
    "\n",
    "##### 7.3. Gradient Boosting Tree: gleiche Hyperparameter wie bei Random Forest."
   ]
  },
  {
   "cell_type": "code",
   "execution_count": 17,
   "id": "db2dd055",
   "metadata": {},
   "outputs": [
    {
     "name": "stdout",
     "output_type": "stream",
     "text": [
      "{'max_depth': 4, 'n_estimators': 100}\n"
     ]
    }
   ],
   "source": [
    "# was ist GradientBoostingClassifier und wie funktioniert der? \n",
    "# warum wird hier ein Random State genuttz? \n",
    "\n",
    "from sklearn.ensemble import GradientBoostingClassifier\n",
    "gbt = GradientBoostingClassifier(random_state=0)\n",
    "grid_search = GridSearchCV(estimator=gbt, param_grid=parameters, n_jobs=-1, scoring=model_scoring)\n",
    "grid_search.fit(X_scaled, Y_train)\n",
    "gbt_best_params = grid_search.best_params_\n",
    "print(gbt_best_params)\n",
    "\n"
   ]
  },
  {
   "cell_type": "markdown",
   "id": "6081c6ba",
   "metadata": {},
   "source": [
    "### 8. Laden Sie die Testdaten."
   ]
  },
  {
   "cell_type": "code",
   "execution_count": 18,
   "id": "48837eec",
   "metadata": {},
   "outputs": [
    {
     "data": {
      "text/html": [
       "<div>\n",
       "<style scoped>\n",
       "    .dataframe tbody tr th:only-of-type {\n",
       "        vertical-align: middle;\n",
       "    }\n",
       "\n",
       "    .dataframe tbody tr th {\n",
       "        vertical-align: top;\n",
       "    }\n",
       "\n",
       "    .dataframe thead th {\n",
       "        text-align: right;\n",
       "    }\n",
       "</style>\n",
       "<table border=\"1\" class=\"dataframe\">\n",
       "  <thead>\n",
       "    <tr style=\"text-align: right;\">\n",
       "      <th></th>\n",
       "      <th>totalAmount</th>\n",
       "      <th>is_new_customer</th>\n",
       "      <th>is_existing_customer</th>\n",
       "      <th>was_returned</th>\n",
       "      <th>zero_count</th>\n",
       "      <th>one_count</th>\n",
       "      <th>two_count</th>\n",
       "      <th>three_count</th>\n",
       "      <th>four_count</th>\n",
       "      <th>five_count</th>\n",
       "      <th>basket_size</th>\n",
       "      <th>max_count</th>\n",
       "    </tr>\n",
       "  </thead>\n",
       "  <tbody>\n",
       "    <tr>\n",
       "      <th>0</th>\n",
       "      <td>252.0</td>\n",
       "      <td>1.0</td>\n",
       "      <td>0.0</td>\n",
       "      <td>1</td>\n",
       "      <td>0</td>\n",
       "      <td>0</td>\n",
       "      <td>0</td>\n",
       "      <td>1</td>\n",
       "      <td>2</td>\n",
       "      <td>0</td>\n",
       "      <td>3</td>\n",
       "      <td>2</td>\n",
       "    </tr>\n",
       "    <tr>\n",
       "      <th>1</th>\n",
       "      <td>70.0</td>\n",
       "      <td>0.0</td>\n",
       "      <td>1.0</td>\n",
       "      <td>0</td>\n",
       "      <td>1</td>\n",
       "      <td>0</td>\n",
       "      <td>2</td>\n",
       "      <td>0</td>\n",
       "      <td>1</td>\n",
       "      <td>1</td>\n",
       "      <td>5</td>\n",
       "      <td>2</td>\n",
       "    </tr>\n",
       "    <tr>\n",
       "      <th>2</th>\n",
       "      <td>84.0</td>\n",
       "      <td>0.0</td>\n",
       "      <td>1.0</td>\n",
       "      <td>0</td>\n",
       "      <td>0</td>\n",
       "      <td>0</td>\n",
       "      <td>0</td>\n",
       "      <td>0</td>\n",
       "      <td>0</td>\n",
       "      <td>1</td>\n",
       "      <td>1</td>\n",
       "      <td>1</td>\n",
       "    </tr>\n",
       "    <tr>\n",
       "      <th>3</th>\n",
       "      <td>116.0</td>\n",
       "      <td>0.0</td>\n",
       "      <td>1.0</td>\n",
       "      <td>0</td>\n",
       "      <td>0</td>\n",
       "      <td>1</td>\n",
       "      <td>1</td>\n",
       "      <td>0</td>\n",
       "      <td>2</td>\n",
       "      <td>0</td>\n",
       "      <td>4</td>\n",
       "      <td>2</td>\n",
       "    </tr>\n",
       "    <tr>\n",
       "      <th>4</th>\n",
       "      <td>378.0</td>\n",
       "      <td>0.0</td>\n",
       "      <td>1.0</td>\n",
       "      <td>0</td>\n",
       "      <td>1</td>\n",
       "      <td>0</td>\n",
       "      <td>3</td>\n",
       "      <td>2</td>\n",
       "      <td>0</td>\n",
       "      <td>1</td>\n",
       "      <td>7</td>\n",
       "      <td>3</td>\n",
       "    </tr>\n",
       "  </tbody>\n",
       "</table>\n",
       "</div>"
      ],
      "text/plain": [
       "   totalAmount  is_new_customer  is_existing_customer  was_returned  \\\n",
       "0        252.0              1.0                   0.0             1   \n",
       "1         70.0              0.0                   1.0             0   \n",
       "2         84.0              0.0                   1.0             0   \n",
       "3        116.0              0.0                   1.0             0   \n",
       "4        378.0              0.0                   1.0             0   \n",
       "\n",
       "   zero_count  one_count  two_count  three_count  four_count  five_count  \\\n",
       "0           0          0          0            1           2           0   \n",
       "1           1          0          2            0           1           1   \n",
       "2           0          0          0            0           0           1   \n",
       "3           0          1          1            0           2           0   \n",
       "4           1          0          3            2           0           1   \n",
       "\n",
       "   basket_size  max_count  \n",
       "0            3          2  \n",
       "1            5          2  \n",
       "2            1          1  \n",
       "3            4          2  \n",
       "4            7          3  "
      ]
     },
     "execution_count": 18,
     "metadata": {},
     "output_type": "execute_result"
    }
   ],
   "source": [
    "data_test  = pd.read_csv('./data/project/test.csv', sep=';')\n",
    "data_train.head()"
   ]
  },
  {
   "cell_type": "markdown",
   "id": "d9222589",
   "metadata": {},
   "source": [
    "### 9. Entfernen Sie alle Zeilen mit fehlenden Werten."
   ]
  },
  {
   "cell_type": "code",
   "execution_count": 19,
   "id": "5aafa29e",
   "metadata": {},
   "outputs": [
    {
     "name": "stdout",
     "output_type": "stream",
     "text": [
      "(9600, 5)\n",
      "(9226, 5)\n"
     ]
    }
   ],
   "source": [
    "print(data_test.shape)\n",
    "data_test = data_test.dropna()\n",
    "print(data_test.shape)"
   ]
  },
  {
   "cell_type": "markdown",
   "id": "ff7d1fda",
   "metadata": {},
   "source": [
    "### 10. Transformieren Sie die Attribute genauso wie bei den Trainingsdaten."
   ]
  },
  {
   "cell_type": "code",
   "execution_count": 20,
   "id": "4ae2a440",
   "metadata": {},
   "outputs": [
    {
     "data": {
      "text/html": [
       "<div>\n",
       "<style scoped>\n",
       "    .dataframe tbody tr th:only-of-type {\n",
       "        vertical-align: middle;\n",
       "    }\n",
       "\n",
       "    .dataframe tbody tr th {\n",
       "        vertical-align: top;\n",
       "    }\n",
       "\n",
       "    .dataframe thead th {\n",
       "        text-align: right;\n",
       "    }\n",
       "</style>\n",
       "<table border=\"1\" class=\"dataframe\">\n",
       "  <thead>\n",
       "    <tr style=\"text-align: right;\">\n",
       "      <th></th>\n",
       "      <th>basket</th>\n",
       "      <th>totalAmount</th>\n",
       "      <th>is_new_customer</th>\n",
       "      <th>is_existing_customer</th>\n",
       "      <th>was_returned</th>\n",
       "    </tr>\n",
       "  </thead>\n",
       "  <tbody>\n",
       "    <tr>\n",
       "      <th>0</th>\n",
       "      <td>[4, 3, 4, 3, 2, 3]</td>\n",
       "      <td>366.0</td>\n",
       "      <td>0</td>\n",
       "      <td>1</td>\n",
       "      <td>1</td>\n",
       "    </tr>\n",
       "    <tr>\n",
       "      <th>1</th>\n",
       "      <td>[3, 4, 4, 3, 5]</td>\n",
       "      <td>85.0</td>\n",
       "      <td>0</td>\n",
       "      <td>1</td>\n",
       "      <td>0</td>\n",
       "    </tr>\n",
       "    <tr>\n",
       "      <th>2</th>\n",
       "      <td>[1, 1, 2, 2, 4, 4, 3, 1, 1, 0, 3]</td>\n",
       "      <td>275.0</td>\n",
       "      <td>0</td>\n",
       "      <td>1</td>\n",
       "      <td>0</td>\n",
       "    </tr>\n",
       "    <tr>\n",
       "      <th>3</th>\n",
       "      <td>[3, 2, 2, 1, 5, 1, 1, 0]</td>\n",
       "      <td>528.0</td>\n",
       "      <td>0</td>\n",
       "      <td>1</td>\n",
       "      <td>0</td>\n",
       "    </tr>\n",
       "    <tr>\n",
       "      <th>4</th>\n",
       "      <td>[4, 2, 3, 5, 2, 5, 1]</td>\n",
       "      <td>287.0</td>\n",
       "      <td>0</td>\n",
       "      <td>1</td>\n",
       "      <td>0</td>\n",
       "    </tr>\n",
       "  </tbody>\n",
       "</table>\n",
       "</div>"
      ],
      "text/plain": [
       "                              basket  totalAmount  is_new_customer  \\\n",
       "0                 [4, 3, 4, 3, 2, 3]        366.0                0   \n",
       "1                    [3, 4, 4, 3, 5]         85.0                0   \n",
       "2  [1, 1, 2, 2, 4, 4, 3, 1, 1, 0, 3]        275.0                0   \n",
       "3           [3, 2, 2, 1, 5, 1, 1, 0]        528.0                0   \n",
       "4              [4, 2, 3, 5, 2, 5, 1]        287.0                0   \n",
       "\n",
       "   is_existing_customer  was_returned  \n",
       "0                     1             1  \n",
       "1                     1             0  \n",
       "2                     1             0  \n",
       "3                     1             0  \n",
       "4                     1             0  "
      ]
     },
     "execution_count": 20,
     "metadata": {},
     "output_type": "execute_result"
    }
   ],
   "source": [
    "# onehotencoding\n",
    "# berechne feature und füge die berechneten feature dem DatenFrame hinzu\n",
    "data_test['is_new_customer'] = data_test['customerType'].replace({'existing': 0, 'new': 1}).fillna(0)\n",
    "data_test['is_existing_customer'] = data_test['customerType'].replace({'existing': 1, 'new': 0}).fillna(0)\n",
    "data_test['was_returned'] = data_test['returnLabel'].replace({'bought': 0, 'returned': 1})\n",
    "\n",
    "# nicht benötigte feature löschen\n",
    "data_test.drop(['customerType'], axis=1, inplace=True)\n",
    "data_test.drop(['returnLabel'], axis=1, inplace=True)\n",
    "data_test.drop(['transactionId'], axis=1, inplace=True)\n",
    "\n",
    "# datensatz anschauen\n",
    "data_test.head()\n"
   ]
  },
  {
   "cell_type": "code",
   "execution_count": 21,
   "id": "25b075ea",
   "metadata": {},
   "outputs": [
    {
     "data": {
      "text/html": [
       "<div>\n",
       "<style scoped>\n",
       "    .dataframe tbody tr th:only-of-type {\n",
       "        vertical-align: middle;\n",
       "    }\n",
       "\n",
       "    .dataframe tbody tr th {\n",
       "        vertical-align: top;\n",
       "    }\n",
       "\n",
       "    .dataframe thead th {\n",
       "        text-align: right;\n",
       "    }\n",
       "</style>\n",
       "<table border=\"1\" class=\"dataframe\">\n",
       "  <thead>\n",
       "    <tr style=\"text-align: right;\">\n",
       "      <th></th>\n",
       "      <th>totalAmount</th>\n",
       "      <th>is_new_customer</th>\n",
       "      <th>is_existing_customer</th>\n",
       "      <th>was_returned</th>\n",
       "      <th>zero_count</th>\n",
       "      <th>one_count</th>\n",
       "      <th>two_count</th>\n",
       "      <th>three_count</th>\n",
       "      <th>four_count</th>\n",
       "      <th>five_count</th>\n",
       "      <th>basket_size</th>\n",
       "      <th>max_count</th>\n",
       "    </tr>\n",
       "  </thead>\n",
       "  <tbody>\n",
       "    <tr>\n",
       "      <th>0</th>\n",
       "      <td>366.0</td>\n",
       "      <td>0</td>\n",
       "      <td>1</td>\n",
       "      <td>1</td>\n",
       "      <td>0</td>\n",
       "      <td>0</td>\n",
       "      <td>1</td>\n",
       "      <td>3</td>\n",
       "      <td>2</td>\n",
       "      <td>0</td>\n",
       "      <td>6</td>\n",
       "      <td>3</td>\n",
       "    </tr>\n",
       "    <tr>\n",
       "      <th>1</th>\n",
       "      <td>85.0</td>\n",
       "      <td>0</td>\n",
       "      <td>1</td>\n",
       "      <td>0</td>\n",
       "      <td>0</td>\n",
       "      <td>0</td>\n",
       "      <td>0</td>\n",
       "      <td>2</td>\n",
       "      <td>2</td>\n",
       "      <td>1</td>\n",
       "      <td>5</td>\n",
       "      <td>2</td>\n",
       "    </tr>\n",
       "    <tr>\n",
       "      <th>2</th>\n",
       "      <td>275.0</td>\n",
       "      <td>0</td>\n",
       "      <td>1</td>\n",
       "      <td>0</td>\n",
       "      <td>1</td>\n",
       "      <td>4</td>\n",
       "      <td>2</td>\n",
       "      <td>2</td>\n",
       "      <td>2</td>\n",
       "      <td>0</td>\n",
       "      <td>11</td>\n",
       "      <td>4</td>\n",
       "    </tr>\n",
       "    <tr>\n",
       "      <th>3</th>\n",
       "      <td>528.0</td>\n",
       "      <td>0</td>\n",
       "      <td>1</td>\n",
       "      <td>0</td>\n",
       "      <td>1</td>\n",
       "      <td>3</td>\n",
       "      <td>2</td>\n",
       "      <td>1</td>\n",
       "      <td>0</td>\n",
       "      <td>1</td>\n",
       "      <td>8</td>\n",
       "      <td>3</td>\n",
       "    </tr>\n",
       "    <tr>\n",
       "      <th>4</th>\n",
       "      <td>287.0</td>\n",
       "      <td>0</td>\n",
       "      <td>1</td>\n",
       "      <td>0</td>\n",
       "      <td>0</td>\n",
       "      <td>1</td>\n",
       "      <td>2</td>\n",
       "      <td>1</td>\n",
       "      <td>1</td>\n",
       "      <td>2</td>\n",
       "      <td>7</td>\n",
       "      <td>2</td>\n",
       "    </tr>\n",
       "  </tbody>\n",
       "</table>\n",
       "</div>"
      ],
      "text/plain": [
       "   totalAmount  is_new_customer  is_existing_customer  was_returned  \\\n",
       "0        366.0                0                     1             1   \n",
       "1         85.0                0                     1             0   \n",
       "2        275.0                0                     1             0   \n",
       "3        528.0                0                     1             0   \n",
       "4        287.0                0                     1             0   \n",
       "\n",
       "   zero_count  one_count  two_count  three_count  four_count  five_count  \\\n",
       "0           0          0          1            3           2           0   \n",
       "1           0          0          0            2           2           1   \n",
       "2           1          4          2            2           2           0   \n",
       "3           1          3          2            1           0           1   \n",
       "4           0          1          2            1           1           2   \n",
       "\n",
       "   basket_size  max_count  \n",
       "0            6          3  \n",
       "1            5          2  \n",
       "2           11          4  \n",
       "3            8          3  \n",
       "4            7          2  "
      ]
     },
     "execution_count": 21,
     "metadata": {},
     "output_type": "execute_result"
    }
   ],
   "source": [
    "# feature engeneering\n",
    "data_test['zero_count'] = data_test.basket.map(lambda x: x.count('0'))\n",
    "data_test['one_count'] = data_test.basket.map(lambda x: x.count('1'))\n",
    "data_test['two_count'] = data_test.basket.map(lambda x: x.count('2'))\n",
    "data_test['three_count'] = data_test.basket.map(lambda x: x.count('3'))\n",
    "data_test['four_count'] = data_test.basket.map(lambda x: x.count('4'))\n",
    "data_test['five_count'] = data_test.basket.map(lambda x: x.count('5'))\n",
    "\n",
    "data_test['basket_size'] = data_test.basket.map(lambda x: x.count('0') + x.count('1') + x.count('2') + x.count('3') + x.count('4') + x.count('5'))\n",
    "\n",
    "data_test['max_count'] = data_test.basket.map(lambda x: max(x.count('0'), x.count('1'), x.count('2'), x.count('3'), x.count('4'), x.count('5')))\n",
    "\n",
    "# nicht benötigte feature löschen\n",
    "data_test.drop(['basket'], axis=1, inplace=True)\n",
    "\n",
    "# datensatz anschauen\n",
    "data_test.head()"
   ]
  },
  {
   "cell_type": "markdown",
   "id": "144123d6",
   "metadata": {},
   "source": [
    "### 11. Skalieren Sie die Daten im gleichem Maß wie die Trainingsdaten."
   ]
  },
  {
   "cell_type": "code",
   "execution_count": 22,
   "id": "19163c86",
   "metadata": {},
   "outputs": [],
   "source": [
    "X_test = data_test.drop(['was_returned'], axis=1)\n",
    "Y_test = data_test['was_returned']\n",
    "X_test_scaled = scaler.transform(X_test)"
   ]
  },
  {
   "cell_type": "markdown",
   "id": "79d8bc52",
   "metadata": {},
   "source": [
    "### 12. Machen Sie eine Vorhersage auf den Testdaten mit allen drei Modellen und den jeweils besten Hyperparametern aus der Cross Validation."
   ]
  },
  {
   "cell_type": "code",
   "execution_count": 23,
   "id": "ddc4f8ec",
   "metadata": {},
   "outputs": [
    {
     "name": "stdout",
     "output_type": "stream",
     "text": [
      "{'C': 1, 'penalty': 'l1'}\n"
     ]
    }
   ],
   "source": [
    "# logistic regression\n",
    "print(logReg_best_params)\n",
    "logReg = LogisticRegression(C=logReg_best_params['C'], penalty=logReg_best_params['penalty'], solver='liblinear')\n",
    "logReg.fit(X_scaled, Y_train)\n",
    "logReg_pred = logReg.predict(X_test_scaled)\n",
    "\n"
   ]
  },
  {
   "cell_type": "code",
   "execution_count": 24,
   "id": "0b99fc56",
   "metadata": {},
   "outputs": [
    {
     "name": "stdout",
     "output_type": "stream",
     "text": [
      "{'max_depth': 6, 'n_estimators': 80}\n"
     ]
    }
   ],
   "source": [
    "# random forest\n",
    "print(rf_best_params)\n",
    "rf = RandomForestClassifier(n_estimators=rf_best_params['n_estimators'], max_depth=rf_best_params['max_depth'], random_state=0, n_jobs=-1)\n",
    "rf.fit(X_scaled, Y_train)\n",
    "rf_pred = rf.predict(X_test_scaled)"
   ]
  },
  {
   "cell_type": "code",
   "execution_count": 25,
   "id": "e0fdf8b4",
   "metadata": {},
   "outputs": [
    {
     "name": "stdout",
     "output_type": "stream",
     "text": [
      "{'max_depth': 4, 'n_estimators': 100}\n"
     ]
    }
   ],
   "source": [
    "# gradient boosting\n",
    "print(gbt_best_params)\n",
    "gbt = GradientBoostingClassifier(n_estimators=gbt_best_params['n_estimators'], max_depth=gbt_best_params['max_depth'], random_state=0)\n",
    "gbt.fit(X_scaled, Y_train)\n",
    "gbt_pred = gbt.predict(X_test_scaled)"
   ]
  },
  {
   "cell_type": "markdown",
   "id": "f8875e50",
   "metadata": {},
   "source": [
    "### 13. Berechnen Sie für jedes der drei Modell Accuracy, Precision und Recall."
   ]
  },
  {
   "cell_type": "code",
   "execution_count": 26,
   "id": "a4a3aa92",
   "metadata": {},
   "outputs": [],
   "source": [
    "from sklearn.metrics import accuracy_score\n",
    "from sklearn.metrics import precision_score\n",
    "from sklearn.metrics import recall_score"
   ]
  },
  {
   "cell_type": "code",
   "execution_count": 27,
   "id": "f7d0618e",
   "metadata": {},
   "outputs": [
    {
     "name": "stdout",
     "output_type": "stream",
     "text": [
      "Logistic Regression Accuracy:  0.873618035985259\n",
      "Logistic Regression Precision:  0.8176\n",
      "Logistic Regression Recall:  0.7421931735657226\n"
     ]
    }
   ],
   "source": [
    "# logistic regression\n",
    "logReg_accuracy = accuracy_score(Y_test, logReg_pred)\n",
    "print('Logistic Regression Accuracy: ', logReg_accuracy)\n",
    "print('Logistic Regression Precision: ', precision_score(Y_test, logReg_pred))\n",
    "print('Logistic Regression Recall: ', recall_score(Y_test, logReg_pred))"
   ]
  },
  {
   "cell_type": "code",
   "execution_count": 28,
   "id": "79a0e63f",
   "metadata": {},
   "outputs": [
    {
     "name": "stdout",
     "output_type": "stream",
     "text": [
      "Random Forest Accuracy:  0.8608280945154997\n",
      "Random Forest Precision:  0.8077889447236181\n",
      "Random Forest Recall:  0.7004357298474946\n"
     ]
    }
   ],
   "source": [
    "# Random Forestrandom forest\n",
    "rf_accuracy = accuracy_score(Y_test, rf_pred)\n",
    "print('Random Forest Accuracy: ', rf_accuracy)\n",
    "print('Random Forest Precision: ', precision_score(Y_test, rf_pred))\n",
    "print('Random Forest Recall: ', recall_score(Y_test, rf_pred))"
   ]
  },
  {
   "cell_type": "code",
   "execution_count": 29,
   "id": "a5b32a03",
   "metadata": {},
   "outputs": [
    {
     "name": "stdout",
     "output_type": "stream",
     "text": [
      "Gradient Boosting Tree Accuracy:  0.8755690440060698\n",
      "Gradient Boosting Tree Precision:  0.8057882711348058\n",
      "Gradient Boosting Tree Recall:  0.7683369644153958\n"
     ]
    }
   ],
   "source": [
    "# gradient boosting tree\n",
    "gbt_accuracy = accuracy_score(Y_test, gbt_pred)\n",
    "print('Gradient Boosting Tree Accuracy: ', gbt_accuracy)\n",
    "print('Gradient Boosting Tree Precision: ', precision_score(Y_test, gbt_pred))\n",
    "print('Gradient Boosting Tree Recall: ', recall_score(Y_test, gbt_pred))"
   ]
  },
  {
   "cell_type": "markdown",
   "id": "8114010e",
   "metadata": {},
   "source": [
    "### 14. Berechnen Sie außerdem die Accuracy auf den Trainingsdaten und vergleichen Sie Accuracy auf Trainings- und Testdaten. Liegt Overfitting vor?"
   ]
  },
  {
   "cell_type": "code",
   "execution_count": 44,
   "id": "f752c646",
   "metadata": {},
   "outputs": [
    {
     "name": "stdout",
     "output_type": "stream",
     "text": [
      "Logistic Regression Accuracy Train:  0.8788392857142857\n",
      "Logistic Regression Accuracy 0.873618035985259\n"
     ]
    },
    {
     "data": {
      "text/plain": [
       "<AxesSubplot:>"
      ]
     },
     "execution_count": 44,
     "metadata": {},
     "output_type": "execute_result"
    },
    {
     "data": {
      "image/png": "[encoded data removed]",
      "text/plain": [
       "<Figure size 432x288 with 1 Axes>"
      ]
     },
     "metadata": {
      "needs_background": "light"
     },
     "output_type": "display_data"
    }
   ],
   "source": [
    "# schönes bild einfügen\n",
    "# Logistic Regression\n",
    "logReg_pred_train = logReg.predict(X_scaled)\n",
    "logReg_accuracy_train = accuracy_score(Y_train, logReg_pred_train)\n",
    "print('Logistic Regression Accuracy Train: ', logReg_accuracy_train)\n",
    "print('Logistic Regression Accuracy', logReg_accuracy)\n",
    "\n",
    "# hier die methoden und parameter beschreiben!\n",
    "df = pd.DataFrame(list(zip([1-logReg_accuracy_train],[1-logReg_accuracy])), columns=['Train-Error','Test-Error'])\n",
    "df.plot(kind='bar',ylim=(0,1))\n"
   ]
  },
  {
   "cell_type": "code",
   "execution_count": 33,
   "id": "ab7fdbd6",
   "metadata": {},
   "outputs": [
    {
     "name": "stdout",
     "output_type": "stream",
     "text": [
      "Random Forest Accuracy Train:  0.8723214285714286\n",
      "Random Forest Accuracy 0.8608280945154997\n"
     ]
    }
   ],
   "source": [
    "# Random Forest\n",
    "rf_pred_train = rf.predict(X_scaled)\n",
    "rf_accuracy_train = accuracy_score(Y_train, rf_pred_train)\n",
    "print('Random Forest Accuracy Train: ', rf_accuracy_train)\n",
    "print('Random Forest Accuracy', rf_accuracy)\n",
    "\n",
    "# hier die methoden und parameter beschreiben!\n",
    "df = pd.DataFrame(list(zip([1-rf_accuracy_train],[1-rf_accuracy])), columns=['Train-Error','Test-Error'])\n",
    "df.plot(kind='bar',ylim=(0,1))"
   ]
  },
  {
   "cell_type": "code",
   "execution_count": 34,
   "id": "611af5be",
   "metadata": {},
   "outputs": [
    {
     "name": "stdout",
     "output_type": "stream",
     "text": [
      "Gradient Boosting Tree Accuracy Train:  0.8867410714285714\n",
      "Gradient Boosting Tree Accuracy 0.8755690440060698\n"
     ]
    }
   ],
   "source": [
    "# Gradient Boosting Tree\n",
    "gbt_pred_train = gbt.predict(X_scaled)\n",
    "gbt_accuracy_train = accuracy_score(Y_train, gbt_pred_train)\n",
    "print('Gradient Boosting Tree Accuracy Train: ', gbt_accuracy_train)\n",
    "print('Gradient Boosting Tree Accuracy', gbt_accuracy)\n",
    "\n",
    "# hier die methoden und parameter beschreiben!\n",
    "df = pd.DataFrame(list(zip([1-gbt_accuracy_train],[1-gbt_accuracy])), columns=['Train-Error','Test-Error'])\n",
    "df.plot(kind='bar',ylim=(0,1))"
   ]
  },
  {
   "cell_type": "markdown",
   "id": "c787120c",
   "metadata": {},
   "source": [
    "### 15. Untersuchen Sie wieviele Datenpunkte es in den Testdaten gibt, welche von allen drei Modellen falsch klassifiziert wurden:"
   ]
  },
  {
   "cell_type": "markdown",
   "id": "17efe79b",
   "metadata": {},
   "source": [
    "#### 1. Bestimmen Sie für jedes der drei Modelle die Indizes der Testdatenpunkte auf welchen das jeweilige Modell falsch klassifiziert hat."
   ]
  },
  {
   "cell_type": "code",
   "execution_count": 42,
   "id": "a98fa6dc",
   "metadata": {},
   "outputs": [
    {
     "name": "stdout",
     "output_type": "stream",
     "text": [
      "log_reg error {2049, 4101, 6, 2054, 6151, 8198, 2058, 8200, 8203, 2061, 4109, 6158, 2064, 18, 6162, 2072, 4121, 6168, 8216, 6172, 29, 34, 38, 2086, 6183, 8232, 2098, 4152, 6204, 6207, 2112, 4160, 8257, 2116, 8261, 4166, 2126, 79, 4176, 8274, 83, 4179, 2133, 2134, 2135, 8278, 90, 8282, 4194, 2147, 4195, 6243, 8294, 103, 4201, 106, 2155, 4202, 4206, 8302, 2161, 114, 115, 4211, 2165, 6265, 125, 2174, 8317, 8323, 6277, 6281, 8329, 139, 140, 141, 4235, 8332, 8333, 145, 4241, 8337, 8339, 2202, 2203, 4250, 2205, 6299, 6300, 8346, 8349, 162, 2213, 2214, 2215, 168, 4261, 4264, 171, 172, 2221, 4265, 4269, 4271, 6316, 8365, 8373, 183, 2235, 2236, 6331, 8382, 4290, 6339, 196, 2244, 199, 2247, 6347, 8396, 6349, 6352, 210, 2261, 4312, 6361, 2266, 4315, 2268, 221, 2270, 4319, 2272, 225, 4320, 2275, 4321, 4325, 8416, 2280, 4330, 6378, 4332, 6381, 8427, 8430, 4337, 8434, 2291, 244, 2292, 6387, 6390, 8436, 250, 254, 8446, 257, 258, 2305, 260, 4353, 262, 4359, 6403, 2313, 266, 4362, 4363, 6405, 8461, 272, 2320, 6417, 2323, 2325, 6422, 4375, 6424, 6425, 8472, 6427, 284, 8474, 288, 8487, 296, 298, 4395, 8492, 6445, 4398, 2351, 4402, 4404, 8500, 4407, 6455, 4410, 6459, 6461, 8511, 320, 2368, 2370, 2371, 2372, 325, 6468, 327, 4424, 329, 2377, 6470, 8518, 6478, 2383, 4432, 6479, 6481, 4440, 4441, 8537, 8539, 8541, 8551, 4456, 6504, 8553, 2411, 4460, 365, 6509, 2416, 369, 6514, 6519, 6520, 377, 6522, 6529, 4483, 6531, 390, 2439, 392, 6534, 2442, 4490, 8590, 8597, 4502, 6552, 410, 2459, 6556, 4509, 4511, 416, 417, 2464, 2466, 4512, 6561, 422, 4519, 2472, 6569, 8615, 2475, 4523, 4525, 2478, 6575, 4531, 2484, 2485, 4533, 8629, 6585, 442, 446, 447, 6591, 449, 451, 4547, 456, 4553, 458, 459, 8652, 2513, 466, 2515, 2519, 473, 2523, 8667, 8668, 486, 487, 2535, 8680, 491, 8683, 494, 4590, 4591, 497, 2546, 4593, 4600, 8696, 4602, 8699, 2558, 8702, 514, 4610, 8708, 6661, 8710, 2568, 6665, 523, 2572, 4621, 527, 6671, 6673, 8720, 8722, 6676, 8726, 2583, 6680, 8728, 4635, 4638, 4640, 546, 8738, 4649, 8746, 6700, 2605, 4656, 8754, 6707, 564, 567, 6714, 4668, 8766, 6724, 582, 6727, 8776, 4681, 2634, 4682, 4683, 8780, 593, 6740, 8788, 598, 8793, 603, 4699, 6747, 606, 4702, 608, 2656, 610, 6755, 2660, 613, 2661, 4711, 8802, 8803, 2666, 8806, 620, 4716, 6765, 8809, 8810, 629, 6775, 2685, 8831, 6784, 2690, 8834, 644, 645, 6789, 2695, 4743, 657, 658, 6802, 4756, 2709, 4757, 8849, 664, 665, 2712, 2714, 6808, 6809, 2718, 4766, 6815, 6816, 4770, 4771, 4772, 6820, 678, 4774, 680, 2728, 2729, 4779, 2732, 6826, 8872, 6833, 2738, 2740, 2741, 694, 2743, 4788, 4791, 6840, 699, 4795, 6843, 702, 6844, 8889, 4801, 8892, 707, 2756, 8894, 4806, 8902, 2760, 4812, 4813, 8908, 8911, 8912, 721, 722, 8914, 4820, 2773, 726, 4822, 4824, 6870, 6872, 8920, 8923, 2783, 2784, 2785, 6883, 740, 4839, 4840, 8936, 2795, 4845, 6894, 6895, 6897, 6898, 4852, 4854, 759, 2810, 2816, 6915, 2823, 6919, 6921, 8970, 2829, 782, 4881, 793, 4889, 4892, 8994, 8996, 806, 4902, 9000, 2857, 4905, 4908, 813, 6958, 6959, 9004, 4913, 4914, 9006, 822, 823, 2872, 6969, 4922, 4925, 4926, 2879, 6974, 833, 6977, 6978, 6980, 9031, 2892, 2894, 6992, 2900, 853, 4953, 858, 7003, 2909, 9054, 2911, 4961, 9057, 867, 7011, 9059, 9060, 4968, 2921, 7019, 4973, 7021, 2927, 7029, 2934, 7030, 7032, 889, 893, 895, 897, 9089, 4996, 5000, 5001, 7048, 7051, 9097, 9098, 9102, 911, 2961, 5011, 7061, 5014, 919, 7068, 2973, 9120, 7076, 7081, 940, 7085, 9132, 2991, 2995, 5044, 7091, 5050, 7102, 9150, 7105, 962, 7106, 5061, 966, 967, 3016, 969, 3017, 3018, 3020, 7114, 9161, 9163, 9165, 5073, 5074, 3027, 5075, 7123, 3030, 983, 984, 5078, 9175, 987, 3035, 3036, 990, 991, 5084, 993, 7134, 995, 7138, 3045, 9186, 3047, 3048, 7145, 9190, 1003, 1004, 3051, 3052, 7147, 9192, 9198, 3058, 9199, 9201, 5109, 3062, 3063, 5111, 3065, 7157, 3068, 1021, 5116, 1023, 7164, 9215, 1026, 5122, 6310, 7172, 9220, 9223, 1032, 5129, 3082, 3088, 7185, 1042, 5140, 7188, 3097, 3100, 1055, 7202, 7204, 3109, 7206, 3111, 3112, 7210, 9167, 9168, 1072, 3121, 1078, 1079, 3127, 1081, 7224, 3131, 7227, 3133, 3134, 5181, 3137, 1090, 7239, 1097, 5197, 3150, 7245, 3153, 7251, 7252, 7253, 9177, 3166, 1119, 5214, 3174, 1128, 7272, 5227, 3180, 5228, 5229, 7275, 3184, 5233, 7276, 5235, 5236, 7286, 1146, 7292, 3206, 7307, 1165, 3213, 1167, 1168, 5262, 7316, 5269, 7318, 3227, 7324, 3239, 5287, 7336, 1194, 1198, 7343, 5297, 7346, 5301, 5303, 5305, 7353, 5309, 3265, 3267, 7363, 1221, 5320, 7368, 1229, 1231, 1232, 3282, 5335, 7383, 1241, 7391, 1249, 7393, 3299, 5350, 1255, 3305, 7404, 3311, 5360, 7413, 3318, 5369, 7419, 5372, 7422, 5382, 5383, 5384, 1289, 3337, 6362, 3340, 5389, 7439, 1297, 3345, 3347, 5396, 5398, 7446, 5400, 7449, 5405, 1311, 7457, 3366, 7466, 1326, 5424, 1330, 7474, 3381, 5430, 3383, 7479, 3385, 7480, 5438, 1343, 7486, 7487, 7492, 3400, 3401, 3403, 1358, 7507, 1367, 3420, 3423, 5471, 7521, 1380, 5477, 3430, 3435, 5483, 5484, 7531, 1391, 7532, 3442, 7540, 5493, 5494, 7545, 3450, 7546, 7551, 5504, 7552, 3459, 7559, 5512, 5513, 7566, 7568, 1426, 3477, 5525, 7576, 3482, 1435, 3483, 7580, 1438, 7582, 7586, 3493, 3499, 1452, 1453, 3500, 7596, 7600, 7601, 5555, 5558, 1467, 3518, 5569, 5570, 7617, 7620, 5584, 7632, 1491, 1492, 7635, 7638, 7639, 5594, 5595, 3548, 7648, 3553, 1506, 3556, 7653, 3558, 3563, 3564, 5615, 3568, 7664, 5618, 1523, 7669, 7672, 7673, 7674, 1533, 3583, 7687, 7689, 8449, 1551, 5650, 1557, 1558, 3606, 1560, 1563, 5659, 1565, 1566, 5660, 7712, 5666, 1573, 3621, 3625, 3626, 5674, 5679, 7729, 7730, 1587, 7732, 5685, 1590, 7733, 3640, 7734, 1594, 1596, 7740, 7743, 1600, 3649, 5696, 3651, 5697, 7745, 8866, 3655, 7753, 5707, 3660, 7759, 3664, 1619, 5715, 7764, 7767, 1625, 5723, 7771, 5725, 5727, 5728, 5729, 3682, 5732, 7783, 7784, 1641, 3695, 5743, 1654, 1655, 5750, 5752, 7808, 5762, 3718, 7814, 5771, 7820, 1678, 5775, 1688, 1689, 7834, 3742, 8885, 5793, 1699, 3747, 7845, 5808, 3761, 1721, 3769, 5818, 3772, 7866, 5828, 1734, 1736, 1738, 5838, 1744, 1746, 3794, 3795, 7891, 3800, 7896, 5850, 5854, 7904, 3810, 1767, 7912, 5867, 5868, 1775, 5871, 3825, 3827, 5878, 1784, 1785, 5881, 3838, 1791, 7937, 7938, 1795, 7939, 7941, 1798, 5897, 3850, 1803, 5901, 3854, 5905, 1810, 7954, 7956, 3865, 1818, 5915, 1821, 5918, 1823, 1824, 3873, 3874, 7968, 7971, 3877, 7972, 5930, 7978, 5938, 7986, 3894, 1847, 5944, 7992, 1850, 3902, 1855, 3903, 3906, 3911, 8009, 3914, 8012, 1875, 8514, 3927, 5975, 3930, 8027, 1884, 1885, 5982, 1888, 1890, 1893, 1902, 8046, 3952, 3953, 6003, 6005, 6010, 3964, 6015, 3969, 3971, 6019, 8068, 6022, 8074, 3979, 8076, 6030, 6031, 8080, 1939, 8084, 1941, 3990, 3993, 6042, 3997, 4001, 1954, 6052, 1957, 4006, 1967, 6064, 8111, 4021, 1974, 6071, 8123, 1980, 8129, 6082, 6083, 1988, 8132, 4040, 6088, 8139, 8140, 6094, 4047, 6098, 4051, 2006, 4054, 6105, 6109, 2014, 4063, 8157, 2017, 4066, 2021, 6119, 4073, 4074, 8172, 4077, 8174, 2032, 4081, 6130, 4084, 8181, 6134, 8185, 8187, 4095}\n",
      "rf error {8198, 8200, 10, 11, 8203, 18, 8216, 29, 8221, 34, 8229, 38, 8232, 8244, 8257, 8261, 8264, 79, 82, 83, 8274, 8278, 90, 8282, 8287, 8294, 112, 8304, 125, 8317, 8323, 139, 140, 141, 8332, 8335, 145, 8337, 147, 8339, 8346, 8349, 162, 168, 172, 177, 8373, 183, 188, 8382, 8387, 196, 199, 200, 204, 8396, 213, 8416, 225, 8427, 8428, 8430, 8434, 244, 8436, 250, 254, 8446, 257, 258, 260, 266, 269, 8461, 272, 8467, 8472, 8474, 284, 290, 8487, 296, 297, 299, 304, 8500, 8511, 320, 325, 8518, 327, 329, 8537, 8541, 8548, 357, 8551, 369, 377, 390, 392, 393, 8590, 8591, 400, 8597, 410, 8605, 416, 417, 422, 8615, 442, 446, 447, 451, 456, 458, 8652, 466, 467, 471, 473, 8667, 481, 486, 487, 8680, 491, 8683, 494, 497, 8689, 499, 8696, 8699, 8702, 514, 516, 8708, 519, 527, 8721, 8722, 533, 8726, 8728, 8736, 546, 8738, 560, 8754, 564, 8758, 567, 8766, 8769, 582, 8776, 8777, 8780, 593, 8788, 597, 8793, 603, 610, 611, 8802, 613, 8803, 8806, 8809, 8810, 620, 629, 638, 8831, 8834, 644, 645, 8846, 657, 658, 8849, 664, 665, 8866, 680, 8872, 8884, 8885, 694, 8889, 699, 700, 8892, 702, 8894, 706, 8902, 8904, 8908, 8911, 8912, 721, 722, 8914, 726, 8923, 8930, 740, 8933, 8936, 8942, 756, 759, 8953, 766, 8962, 8970, 782, 8979, 793, 8987, 8997, 9000, 809, 9004, 813, 9012, 822, 823, 833, 9031, 9036, 9042, 853, 858, 9054, 9057, 867, 9059, 9060, 884, 893, 896, 897, 9089, 902, 9097, 9098, 9102, 911, 919, 9120, 940, 9132, 9150, 962, 966, 967, 969, 9161, 9163, 9167, 9168, 9172, 983, 984, 9175, 9177, 987, 990, 991, 993, 9186, 995, 996, 9189, 9190, 9192, 1003, 1004, 9198, 9199, 1021, 1023, 9215, 1026, 9220, 9223, 1042, 1069, 1072, 1079, 1081, 1085, 1089, 1090, 1097, 1099, 1108, 1119, 1128, 1136, 1142, 1146, 1161, 1165, 1167, 1168, 1169, 1194, 1195, 1198, 1220, 1221, 1222, 1229, 1231, 1232, 1239, 1241, 1243, 1249, 1273, 1292, 1297, 1300, 1311, 1326, 1330, 1343, 1348, 1367, 1378, 1380, 1391, 1420, 1426, 1435, 1437, 1438, 1452, 1453, 1465, 1467, 1492, 1500, 1502, 1506, 1511, 1514, 1517, 1523, 1551, 1556, 1557, 1558, 1563, 1565, 1566, 1579, 1587, 1590, 1594, 1596, 1600, 1606, 1619, 1641, 1654, 1655, 1678, 1688, 1689, 1699, 1714, 1716, 1721, 1731, 1736, 1738, 1743, 1744, 1746, 1756, 1767, 1775, 1791, 1795, 1798, 1803, 1804, 1810, 1821, 1823, 1824, 1831, 1840, 1841, 1850, 1855, 1875, 1884, 1885, 1888, 1890, 1891, 1893, 1902, 1909, 1917, 1931, 1939, 1941, 1963, 1967, 1974, 1980, 1988, 1990, 2006, 2014, 2017, 2021, 2032, 2040, 2049, 2054, 2055, 2058, 2061, 2064, 2072, 2086, 2098, 2100, 2116, 2126, 2133, 2134, 2147, 2155, 2161, 2163, 2165, 2174, 2190, 2202, 2205, 2213, 2214, 2221, 2226, 2235, 2236, 2244, 2247, 2261, 2266, 2268, 2270, 2272, 2275, 2280, 2291, 2292, 2299, 2305, 2313, 2320, 2323, 2325, 2344, 2351, 2367, 2368, 2370, 2372, 2377, 2411, 2416, 2430, 2436, 2439, 2442, 2459, 2464, 2466, 2472, 2475, 2478, 2484, 2502, 2513, 2514, 2515, 2519, 2523, 2546, 2558, 2566, 2568, 2572, 2577, 2583, 2586, 2605, 2634, 2638, 2656, 2660, 2661, 2666, 2669, 2685, 2690, 2695, 2712, 2714, 2728, 2729, 2732, 2738, 2740, 2743, 2747, 2756, 2760, 2765, 2783, 2784, 2785, 2797, 2802, 2810, 2816, 2819, 2823, 2828, 2829, 2857, 2872, 2879, 2891, 2892, 2894, 2900, 2909, 2911, 2915, 2927, 2934, 2941, 2956, 2961, 2963, 2973, 2984, 2991, 2995, 3012, 3016, 3017, 3018, 3027, 3030, 3031, 3035, 3036, 3047, 3048, 3051, 3052, 3058, 3062, 3063, 3065, 3068, 3082, 3083, 3088, 3097, 3100, 3109, 3111, 3112, 3121, 3127, 3130, 3131, 3134, 3137, 3166, 3180, 3184, 3206, 3213, 3227, 3231, 3234, 3239, 3267, 3282, 3299, 3311, 3314, 3337, 3340, 3345, 3347, 3366, 3374, 3378, 3381, 3383, 3385, 3392, 3400, 3401, 3403, 3408, 3409, 3420, 3422, 3423, 3430, 3435, 3439, 3442, 3450, 3472, 3482, 3483, 3486, 3493, 3499, 3500, 3516, 3518, 3543, 3548, 3553, 3556, 3558, 3563, 3564, 3568, 3575, 3583, 3602, 3606, 3607, 3621, 3625, 3626, 3640, 3645, 3649, 3660, 3664, 3695, 3718, 3742, 3747, 3750, 3761, 3765, 3772, 3800, 3810, 3812, 3820, 3825, 3827, 3838, 3850, 3854, 3865, 3873, 3874, 3877, 3886, 3894, 3900, 3902, 3903, 3905, 3906, 3911, 3914, 3927, 3930, 3936, 3952, 3953, 3964, 3969, 3971, 3972, 3979, 3990, 3993, 3997, 4001, 4051, 4054, 4059, 4063, 4066, 4073, 4074, 4077, 4081, 4084, 4095, 4101, 4109, 4121, 4152, 4160, 4166, 4176, 4179, 4194, 4195, 4201, 4202, 4206, 4211, 4239, 4240, 4241, 4250, 4252, 4261, 4264, 4265, 4269, 4271, 4281, 4290, 4312, 4315, 4319, 4325, 4332, 4337, 4339, 4353, 4357, 4359, 4362, 4363, 4375, 4378, 4395, 4407, 4410, 4424, 4432, 4441, 4456, 4460, 4483, 4490, 4498, 4502, 4509, 4512, 4516, 4518, 4519, 4523, 4525, 4531, 4533, 4547, 4553, 4575, 4579, 4586, 4588, 4590, 4591, 4593, 4600, 4602, 4610, 4621, 4635, 4638, 4640, 4649, 4668, 4673, 4681, 4682, 4683, 4699, 4702, 4711, 4716, 4719, 4743, 4766, 4770, 4771, 4772, 4774, 4779, 4791, 4795, 4801, 4806, 4813, 4820, 4822, 4824, 4829, 4839, 4845, 4847, 4852, 4854, 4867, 4881, 4889, 4890, 4892, 4898, 4902, 4908, 4913, 4914, 4922, 4926, 4953, 4961, 4973, 4996, 5001, 5011, 5028, 5042, 5044, 5050, 5073, 5074, 5075, 5078, 5084, 5109, 5111, 5116, 5122, 5127, 5129, 5140, 5147, 5181, 5197, 5214, 5225, 5227, 5229, 5233, 5234, 5235, 5236, 5251, 5262, 5267, 5269, 5281, 5287, 5297, 5301, 5303, 5305, 5309, 5320, 5329, 5335, 5350, 5352, 5360, 5366, 5369, 5372, 5382, 5383, 5393, 5396, 5398, 5400, 5404, 5405, 5407, 5424, 5430, 5462, 5471, 5476, 5477, 5484, 5493, 5504, 5512, 5513, 5525, 5541, 5555, 5558, 5569, 5570, 5594, 5595, 5597, 5615, 5618, 5620, 5650, 5659, 5666, 5674, 5679, 5696, 5697, 5699, 5707, 5710, 5715, 5718, 5723, 5725, 5726, 5727, 5728, 5729, 5732, 5743, 5744, 5750, 5762, 5771, 5775, 5793, 5807, 5808, 5818, 5826, 5828, 5838, 5846, 5850, 5854, 5864, 5867, 5868, 5871, 5874, 5877, 5878, 5881, 5886, 5897, 5901, 5905, 5915, 5918, 5930, 5931, 5938, 5944, 5947, 6003, 6005, 6013, 6019, 6022, 6024, 6030, 6031, 6036, 6037, 6041, 6042, 6046, 6052, 6071, 6083, 6094, 6098, 6105, 6109, 6119, 6130, 6134, 6151, 6158, 6162, 6168, 6172, 6183, 6204, 6222, 6243, 6248, 6263, 6265, 6277, 6281, 6299, 6300, 6307, 6310, 6316, 6331, 6339, 6347, 6349, 6350, 6352, 6359, 6362, 6378, 6387, 6403, 6405, 6417, 6422, 6424, 6428, 6445, 6455, 6459, 6461, 6468, 6470, 6478, 6479, 6481, 6485, 6490, 6504, 6509, 6514, 6519, 6520, 6522, 6529, 6531, 6534, 6544, 6556, 6561, 6564, 6566, 6569, 6585, 6646, 6651, 6661, 6665, 6671, 6673, 6676, 6680, 6700, 6707, 6714, 6724, 6740, 6747, 6755, 6765, 6768, 6775, 6784, 6789, 6804, 6808, 6809, 6811, 6815, 6816, 6820, 6826, 6831, 6833, 6840, 6843, 6844, 6853, 6870, 6874, 6883, 6889, 6894, 6895, 6897, 6898, 6905, 6915, 6919, 6921, 6927, 6933, 6937, 6950, 6959, 6969, 6971, 6977, 6978, 6992, 7011, 7019, 7029, 7030, 7032, 7051, 7054, 7057, 7061, 7068, 7076, 7085, 7091, 7093, 7097, 7102, 7105, 7106, 7114, 7115, 7134, 7138, 7145, 7147, 7156, 7157, 7180, 7185, 7188, 7199, 7202, 7204, 7206, 7210, 7224, 7227, 7239, 7251, 7252, 7253, 7262, 7275, 7276, 7292, 7307, 7316, 7318, 7324, 7336, 7343, 7346, 7353, 7355, 7363, 7368, 7383, 7391, 7393, 7404, 7413, 7422, 7446, 7457, 7466, 7474, 7479, 7480, 7486, 7487, 7492, 7507, 7514, 7521, 7531, 7532, 7545, 7546, 7551, 7552, 7559, 7566, 7576, 7580, 7582, 7596, 7600, 7618, 7620, 7632, 7635, 7639, 7648, 7653, 7664, 7667, 7669, 7672, 7673, 7674, 7687, 7710, 7712, 7722, 7729, 7730, 7732, 7733, 7734, 7740, 7743, 7745, 7753, 7759, 7764, 7771, 7778, 7795, 7808, 7820, 7834, 7841, 7843, 7845, 7846, 7850, 7854, 7891, 7904, 7912, 7922, 7937, 7938, 7939, 7941, 7946, 7954, 7956, 7968, 7971, 7978, 7986, 8009, 8012, 8021, 8038, 8046, 8069, 8074, 8076, 8080, 8084, 8111, 8123, 8129, 8132, 8139, 8140, 8155, 8157, 8172, 8174, 8181, 8183, 8185, 8187}\n",
      "gb error {2049, 8196, 4101, 2054, 6151, 8198, 8200, 2058, 8203, 2061, 4109, 6158, 2064, 6162, 8210, 2072, 4121, 6168, 8216, 2076, 29, 6172, 34, 8229, 38, 2086, 6183, 8232, 2098, 4149, 4152, 6204, 6207, 8257, 2116, 8261, 4166, 8264, 2126, 79, 4176, 8274, 83, 4179, 2133, 2134, 2135, 8278, 90, 8282, 4194, 2147, 4195, 6243, 8294, 6248, 4201, 2155, 4206, 2161, 114, 115, 2163, 2165, 4211, 125, 2174, 8323, 4229, 6277, 4231, 6281, 8329, 139, 140, 4235, 8332, 8333, 145, 4241, 147, 8337, 8339, 2202, 2203, 4250, 2205, 4252, 6299, 6300, 8346, 8349, 2213, 2214, 4261, 168, 4264, 4265, 6310, 172, 2221, 4269, 4271, 6316, 8363, 8365, 2227, 8372, 6331, 188, 2236, 8382, 4290, 6339, 196, 8387, 199, 200, 2247, 6347, 8396, 6349, 6350, 6352, 210, 6358, 6359, 4312, 6361, 2266, 4315, 2268, 6362, 2270, 4318, 2272, 225, 4320, 2275, 8416, 4325, 4330, 8427, 4332, 2285, 6380, 8430, 4337, 8434, 4339, 244, 2292, 6387, 248, 2296, 250, 2299, 254, 8446, 2305, 258, 4353, 6403, 4357, 262, 4359, 6405, 2313, 266, 4362, 4363, 269, 6414, 8461, 272, 2320, 6417, 2323, 8467, 2325, 6422, 6424, 6425, 8472, 6427, 284, 8474, 288, 8487, 296, 2344, 298, 4395, 6445, 4398, 2351, 4402, 8500, 6455, 4410, 6459, 6461, 8511, 320, 2368, 2370, 2372, 325, 6468, 327, 4424, 329, 2377, 6470, 8518, 6478, 6479, 4432, 6481, 6485, 4440, 4441, 6490, 8537, 8539, 8541, 357, 8551, 4456, 6504, 8553, 2411, 4460, 365, 6509, 2416, 369, 6514, 2423, 6519, 377, 6520, 4477, 4478, 6529, 4483, 6531, 390, 2439, 392, 393, 2442, 4490, 6534, 8586, 8590, 4498, 8597, 4502, 6552, 410, 2459, 6556, 8605, 4512, 417, 2466, 6561, 4516, 422, 4519, 424, 2472, 6566, 427, 2475, 4523, 2478, 4525, 4531, 2484, 4533, 6585, 442, 446, 447, 6591, 451, 6595, 2502, 8647, 456, 4553, 458, 459, 8652, 2513, 466, 467, 2515, 2519, 473, 2523, 8668, 486, 487, 2535, 8680, 491, 8683, 494, 4591, 497, 2546, 4593, 4600, 8696, 4602, 8699, 2558, 8702, 514, 4610, 8708, 6661, 2568, 6665, 523, 2572, 4621, 527, 6671, 8721, 8722, 6676, 4629, 8726, 2583, 6680, 8728, 4636, 4638, 4640, 8736, 546, 8738, 4649, 8746, 6700, 2605, 4656, 8754, 6707, 564, 8758, 567, 6714, 4668, 8766, 4673, 8771, 6724, 582, 8776, 4681, 2634, 4682, 4683, 8777, 2638, 8780, 593, 6740, 8788, 8793, 4699, 6747, 606, 4702, 2656, 6755, 2660, 613, 2661, 4711, 8803, 8806, 2666, 8809, 620, 4716, 6765, 4719, 8810, 629, 6775, 2685, 8831, 6784, 2690, 8834, 644, 645, 6789, 4743, 657, 658, 6802, 8849, 2709, 4757, 664, 665, 2712, 6808, 6809, 2718, 4766, 6815, 6816, 4770, 8866, 4772, 6820, 678, 4774, 2728, 2729, 6826, 4779, 2732, 8872, 6833, 2738, 2740, 2741, 694, 2743, 4791, 6840, 8884, 699, 4795, 6843, 702, 6844, 8889, 4801, 6850, 707, 2756, 8892, 4806, 8894, 2760, 8902, 8908, 4813, 8911, 8912, 721, 722, 8914, 2773, 726, 4822, 4824, 6870, 6872, 6874, 8920, 8923, 2783, 2784, 2785, 6883, 740, 4839, 4840, 8936, 2795, 4845, 8942, 6895, 4849, 6898, 756, 4852, 4854, 759, 2810, 766, 2814, 2816, 4867, 6915, 2823, 8970, 2829, 782, 4879, 4881, 4889, 4892, 8991, 4898, 2851, 8994, 8996, 806, 4902, 9000, 2857, 4905, 9004, 813, 6958, 6959, 9006, 4913, 4914, 9012, 822, 2872, 6969, 4922, 4925, 4926, 2879, 6978, 6980, 9031, 2892, 6992, 2900, 853, 4953, 858, 7003, 2909, 9054, 2911, 4961, 9057, 867, 7011, 9059, 9060, 4968, 2921, 7019, 4973, 2927, 7029, 2934, 7030, 7032, 889, 895, 896, 897, 9088, 9089, 4996, 5001, 9097, 7051, 2956, 9098, 9102, 911, 2961, 5012, 7061, 919, 7068, 2973, 9118, 9120, 7076, 2987, 940, 7085, 9132, 2991, 2995, 5044, 7091, 7093, 7097, 5050, 7100, 7102, 9150, 7105, 962, 7106, 3012, 5061, 9156, 967, 3016, 969, 3017, 3018, 3020, 7114, 9161, 9163, 9165, 9167, 5074, 9168, 7124, 3030, 983, 984, 5078, 9175, 3035, 3036, 5084, 990, 7134, 9177, 993, 7138, 995, 996, 9186, 9190, 3047, 3048, 7145, 9192, 1003, 1004, 3051, 3052, 7147, 9198, 9199, 3058, 9201, 5109, 3062, 3063, 7157, 3065, 3068, 5116, 1023, 9215, 9217, 1026, 5122, 1028, 7172, 9220, 5129, 3082, 3088, 7185, 1042, 5140, 3097, 3100, 1055, 7202, 7204, 3109, 7206, 3111, 3112, 7210, 5166, 1072, 3121, 1078, 1079, 3127, 1081, 5174, 3131, 7224, 3133, 3134, 5181, 7227, 3137, 1090, 7239, 1097, 3149, 3150, 5197, 7245, 7251, 7252, 3166, 1119, 5214, 1128, 7272, 5227, 3180, 5228, 5229, 7275, 7276, 5235, 5236, 7286, 1146, 7292, 5252, 3206, 1165, 3213, 1167, 1168, 5262, 5267, 7316, 5269, 7318, 7324, 5281, 3234, 7332, 3239, 1194, 1195, 1198, 7343, 1200, 7346, 5301, 5303, 7353, 5309, 1215, 3267, 7363, 1221, 5320, 7368, 1229, 1231, 1232, 3282, 1239, 7383, 1241, 1249, 7393, 3299, 7397, 5350, 7398, 3305, 7404, 3311, 5360, 7413, 5369, 7419, 5372, 7422, 5382, 5383, 5384, 1289, 3337, 5389, 1294, 1297, 3345, 3347, 5393, 5396, 5398, 7446, 5405, 5407, 7457, 3366, 7466, 1326, 3374, 5424, 1330, 7474, 3381, 5430, 3383, 7479, 3385, 7480, 7483, 5438, 1343, 7486, 7487, 1348, 3400, 3401, 1358, 7507, 1367, 5463, 3420, 5471, 7521, 1380, 5477, 3430, 3435, 5484, 7531, 7532, 1391, 3442, 5493, 5494, 5496, 7545, 3450, 7551, 7552, 3459, 7559, 5512, 5513, 7566, 7568, 1426, 3477, 7576, 3482, 1435, 3483, 7578, 1438, 7580, 7582, 1443, 3493, 3499, 3500, 1453, 7596, 7600, 7601, 5555, 5558, 1467, 3516, 3518, 7617, 5570, 7620, 7625, 7632, 7635, 1492, 7638, 3543, 7639, 5593, 5594, 5595, 3548, 5597, 7648, 3553, 1506, 7653, 3558, 3564, 5615, 3568, 7664, 5618, 1523, 7669, 7672, 7673, 7674, 1533, 3583, 7687, 5646, 1551, 7694, 8449, 5650, 1557, 1558, 3606, 1560, 1563, 5659, 1565, 1566, 5660, 7712, 5666, 1573, 3621, 3625, 3626, 5674, 5679, 7729, 7730, 1587, 7732, 7733, 1590, 3640, 1594, 1596, 7740, 7743, 1600, 3649, 5696, 3651, 7745, 3655, 7753, 5707, 3660, 5710, 7759, 3664, 1619, 7767, 5723, 7771, 5725, 5727, 5728, 5729, 5732, 7783, 7784, 1641, 3695, 5743, 7795, 1654, 3703, 5750, 5752, 5753, 5754, 1661, 7808, 5762, 7813, 3718, 7814, 5771, 7820, 1678, 5775, 1688, 1689, 7834, 3741, 3742, 8885, 5793, 1699, 3747, 7845, 7848, 5808, 3761, 1716, 3765, 1721, 3769, 5818, 3772, 7866, 5828, 1734, 3783, 1736, 1738, 1739, 5838, 1743, 1744, 1746, 3794, 3795, 7895, 3800, 5850, 7902, 7904, 3810, 3812, 1767, 5867, 5868, 1775, 5871, 3825, 3827, 5878, 1784, 5881, 3838, 1791, 7937, 7938, 7939, 7941, 1798, 5897, 1803, 1804, 5901, 3854, 5905, 1810, 7956, 3865, 5915, 1821, 3869, 1823, 1824, 3873, 3874, 5918, 7968, 3877, 7971, 1831, 1832, 5930, 7978, 5938, 7986, 3894, 1847, 5944, 7992, 1850, 3902, 1855, 3903, 3906, 3911, 8009, 8012, 1875, 3927, 5975, 3930, 1884, 1885, 5982, 1890, 1893, 1902, 8046, 3952, 3953, 6005, 6010, 3964, 6015, 3969, 3971, 3972, 6019, 6022, 8069, 8074, 1931, 3979, 6030, 6031, 8080, 1939, 8084, 1941, 3990, 6041, 6042, 3997, 4001, 1954, 8098, 6052, 1957, 4005, 1961, 1967, 8111, 6071, 8123, 1980, 8129, 6083, 1988, 8132, 4040, 6088, 8139, 8140, 6094, 4047, 6098, 4051, 4054, 6105, 8155, 6109, 2014, 4063, 2016, 2017, 4066, 8157, 2021, 6119, 4073, 4074, 8169, 8172, 4077, 8174, 4081, 6130, 4084, 8181, 6134, 8185, 8187, 4095}\n"
     ]
    }
   ],
   "source": [
    "# () was ist das?\n",
    "# was ist iloc\n",
    "# wie lange muss die schleife laufen? \n",
    "\n",
    "logReg_error = ()\n",
    "rf_error = ()\n",
    "gbt_error = ()\n",
    "\n",
    "for i in range(len(logReg_pred)):\n",
    "    if logReg_pred[i] != Y_test.iloc[i]:\n",
    "        logReg_error.add(i)\n",
    "    if rf_pred[i] != Y_test.iloc[i]:\n",
    "        rf_error.add(i)\n",
    "    if gbt_pred[i] != Y_test.iloc[i]:\n",
    "        gbt_error.add(i)\n",
    "\n",
    "print(\"log_reg error\", logReg_error)\n",
    "print(\"rf error\", rf_error)\n",
    "print(\"gb error\", gbt_error)"
   ]
  },
  {
   "cell_type": "markdown",
   "id": "2f4cb1c2",
   "metadata": {},
   "source": [
    "#### 2. Nutzen Sie die set-Klasse in Python um die Anzahl an Datenpunkten zu bestimmen, welche von allen drei Modellen falsch klassifiziert wurden."
   ]
  },
  {
   "cell_type": "code",
   "execution_count": 43,
   "id": "6dfb8be6",
   "metadata": {},
   "outputs": [
    {
     "name": "stdout",
     "output_type": "stream",
     "text": [
      "error of all models {2049, 4101, 8198, 6151, 2054, 8200, 2058, 8203, 2061, 4109, 6158, 2064, 6162, 2072, 6168, 8216, 4121, 6172, 29, 34, 38, 2086, 6183, 8232, 2098, 4152, 6204, 8257, 2116, 8261, 4166, 2126, 79, 4176, 8274, 83, 4179, 2133, 2134, 8278, 90, 8282, 4194, 2147, 4195, 6243, 8294, 4201, 2155, 4206, 2161, 4211, 2165, 125, 2174, 8323, 6277, 6281, 139, 140, 8332, 145, 4241, 8337, 8339, 2202, 4250, 6299, 2205, 6300, 8349, 8346, 2213, 2214, 4261, 168, 4264, 4265, 6310, 172, 2221, 4269, 4271, 6316, 6331, 2236, 8382, 4290, 6339, 196, 199, 2247, 6347, 8396, 6349, 6352, 4312, 2266, 4315, 2268, 6362, 2270, 2272, 225, 8416, 2275, 4325, 8427, 4332, 8430, 4337, 8434, 6387, 244, 2292, 250, 254, 8446, 2305, 258, 4353, 6403, 6405, 4359, 2313, 266, 4362, 4363, 8461, 272, 2320, 6417, 2323, 2325, 6422, 6424, 8472, 8474, 284, 8487, 296, 4395, 6445, 2351, 8500, 6455, 4410, 6459, 6461, 8511, 320, 2368, 2370, 2372, 325, 6468, 327, 4424, 329, 2377, 6470, 8518, 6478, 6479, 4432, 6481, 4441, 8537, 8541, 8551, 4456, 6504, 2411, 4460, 6509, 2416, 369, 6514, 6519, 6520, 377, 6529, 4483, 6531, 390, 2439, 392, 6534, 2442, 4490, 8590, 8597, 4502, 410, 2459, 6556, 4512, 417, 2466, 6561, 422, 4519, 2472, 2475, 4523, 4525, 2478, 4531, 2484, 4533, 6585, 442, 446, 447, 451, 456, 4553, 458, 8652, 2513, 466, 2515, 2519, 473, 2523, 486, 487, 8680, 491, 8683, 494, 4591, 497, 2546, 4593, 4600, 8696, 4602, 8699, 2558, 8702, 514, 4610, 8708, 6661, 2568, 6665, 2572, 4621, 527, 6671, 8722, 6676, 8726, 2583, 6680, 8728, 4638, 4640, 546, 8738, 4649, 6700, 2605, 8754, 6707, 564, 567, 6714, 4668, 8766, 6724, 582, 8776, 4681, 2634, 4682, 4683, 8780, 593, 6740, 8788, 8793, 4699, 6747, 4702, 2656, 6755, 2660, 613, 2661, 4711, 8803, 8806, 2666, 8809, 620, 4716, 6765, 8810, 629, 6775, 2685, 8831, 6784, 2690, 8834, 644, 645, 6789, 4743, 657, 658, 8849, 664, 665, 2712, 6808, 6809, 4766, 6815, 6816, 4770, 8866, 4772, 6820, 4774, 2728, 2729, 6826, 4779, 2732, 8872, 6833, 2738, 2740, 8885, 694, 2743, 4791, 6840, 8889, 699, 4795, 6843, 702, 6844, 8892, 4801, 8894, 2756, 4806, 8902, 2760, 8908, 4813, 8911, 8912, 721, 722, 8914, 726, 4822, 4824, 6870, 8923, 2783, 2784, 2785, 6883, 740, 4839, 8936, 4845, 6895, 6898, 4852, 4854, 759, 2810, 2816, 6915, 2823, 8970, 2829, 782, 4881, 4889, 4892, 4902, 9000, 2857, 9004, 813, 6959, 4913, 4914, 822, 2872, 6969, 4922, 4926, 2879, 6978, 9031, 2892, 6992, 2900, 853, 4953, 858, 2909, 9054, 2911, 4961, 9057, 867, 7011, 9059, 9060, 7019, 4973, 2927, 7029, 2934, 7030, 7032, 897, 9089, 4996, 5001, 9097, 7051, 9098, 9102, 911, 2961, 7061, 919, 7068, 2973, 9120, 7076, 940, 7085, 9132, 2991, 2995, 5044, 7091, 5050, 7102, 9150, 7105, 962, 7106, 967, 3016, 969, 3017, 3018, 7114, 9161, 9163, 9167, 9168, 5074, 3030, 983, 984, 5078, 9175, 3035, 3036, 5084, 990, 7134, 9177, 993, 7138, 995, 9186, 9190, 3047, 3048, 7145, 9192, 1003, 1004, 3051, 3052, 7147, 9198, 9199, 3058, 5109, 3062, 3063, 7157, 3065, 3068, 5116, 1023, 9215, 1026, 5122, 9220, 5129, 3082, 3088, 7185, 1042, 5140, 3097, 3100, 7202, 7204, 3109, 7206, 3111, 3112, 7210, 1072, 3121, 1079, 3127, 1081, 7224, 3131, 7227, 5181, 3134, 3137, 1090, 7239, 1097, 5197, 7251, 7252, 3166, 1119, 5214, 1128, 5227, 3180, 5229, 7275, 7276, 5235, 5236, 1146, 7292, 3206, 1165, 3213, 1167, 1168, 5262, 7316, 5269, 7318, 7324, 3239, 1194, 1198, 7343, 7346, 5301, 5303, 7353, 5309, 3267, 7363, 1221, 5320, 7368, 1229, 1231, 1232, 3282, 7383, 1241, 1249, 7393, 3299, 5350, 7404, 3311, 5360, 7413, 5369, 5372, 7422, 5382, 5383, 3337, 1297, 3345, 3347, 5396, 5398, 7446, 5405, 7457, 3366, 7466, 1326, 5424, 1330, 7474, 3381, 5430, 3383, 7479, 3385, 7480, 7486, 1343, 7487, 3400, 3401, 7507, 1367, 3420, 5471, 7521, 1380, 5477, 3430, 3435, 5484, 7531, 7532, 1391, 3442, 5493, 7545, 3450, 7551, 7552, 7559, 5512, 5513, 7566, 1426, 7576, 3482, 1435, 3483, 7580, 1438, 7582, 3493, 3499, 3500, 1453, 7596, 7600, 5555, 5558, 1467, 3518, 5570, 7620, 7632, 7635, 1492, 7639, 5594, 5595, 3548, 7648, 3553, 1506, 7653, 3558, 3564, 5615, 3568, 7664, 5618, 1523, 7669, 7672, 7673, 7674, 3583, 7687, 1551, 5650, 1557, 1558, 3606, 1563, 5659, 1565, 1566, 7712, 5666, 3621, 3625, 3626, 5674, 5679, 7729, 7730, 1587, 7732, 7733, 1590, 3640, 1594, 1596, 7740, 7743, 1600, 3649, 5696, 7745, 7753, 5707, 3660, 7759, 3664, 1619, 5723, 7771, 5725, 5727, 5728, 5729, 5732, 1641, 3695, 5743, 1654, 5750, 7808, 5762, 3718, 5771, 7820, 1678, 5775, 1688, 1689, 7834, 3742, 5793, 1699, 3747, 7845, 5808, 3761, 1721, 5818, 3772, 5828, 1736, 1738, 5838, 1744, 1746, 3800, 5850, 7904, 3810, 1767, 5867, 5868, 1775, 5871, 3825, 3827, 5878, 5881, 3838, 1791, 7937, 7938, 7939, 7941, 1798, 5897, 1803, 5901, 3854, 5905, 1810, 7956, 3865, 5915, 1821, 5918, 1823, 1824, 3873, 3874, 7968, 7971, 3877, 5930, 7978, 5938, 7986, 3894, 5944, 1850, 3902, 1855, 3903, 3906, 3911, 8009, 8012, 1875, 3927, 3930, 1884, 1885, 1890, 1893, 1902, 8046, 3952, 3953, 6005, 3964, 3969, 3971, 6019, 6022, 8074, 3979, 6030, 6031, 8080, 1939, 8084, 1941, 3990, 6042, 3997, 4001, 6052, 1967, 8111, 6071, 8123, 1980, 8129, 6083, 1988, 8132, 8139, 8140, 6094, 6098, 4051, 4054, 6105, 6109, 2014, 4063, 8157, 2017, 4066, 2021, 6119, 4073, 4074, 8172, 4077, 8174, 4081, 6130, 4084, 8181, 6134, 8185, 8187, 4095}\n"
     ]
    }
   ],
   "source": [
    "# was macht intersect?\n",
    "\n",
    "error_of_all_models = set.intersection(logReg_error, rf_error, gbt_error)\n",
    "print(\"error of all models\", error_of_all_models)"
   ]
  }
 ],
 "metadata": {
  "kernelspec": {
   "display_name": "Python 3.10.4 64-bit",
   "language": "python",
   "name": "python3"
  },
  "language_info": {
   "codemirror_mode": {
    "name": "ipython",
    "version": 3
   },
   "file_extension": ".py",
   "mimetype": "text/x-python",
   "name": "python",
   "nbconvert_exporter": "python",
   "pygments_lexer": "ipython3",
   "version": "3.10.4"
  },
  "vscode": {
   "interpreter": {
    "hash": "c2dbddc0d094fb305e126662d91c51d10cf224b3d951c33b67a7be6356458a67"
   }
  }
 },
 "nbformat": 4,
 "nbformat_minor": 5
}
