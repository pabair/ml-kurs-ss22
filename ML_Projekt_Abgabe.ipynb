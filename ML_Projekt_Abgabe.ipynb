{
 "cells": [
  {
   "cell_type": "markdown",
   "id": "cf6d905b",
   "metadata": {},
   "source": [
    "### 1. Laden Sie die Trainingsdaten."
   ]
  },
  {
   "cell_type": "markdown",
   "id": "038aa2ae",
   "metadata": {},
   "source": [
    "Die Trainingsdaten werden über die `read_csv()` Funktion geladen, dabei kann der Trenner (sepperator) über den Parameter `sep=\";\"` festgelegt werden.\n",
    "Zu Anfang ist es immer sinnvoll sich die Daten einmal anzuschauen um ein gefühl dafür zu bekommen mit was man arbeitet. Außerdem können so auch Fehler erkannt werden, beispielsweise ob die Daten richtig geladen wurden oder nicht."
   ]
  },
  {
   "cell_type": "code",
   "execution_count": 2,
   "id": "da1945d7",
   "metadata": {},
   "outputs": [
    {
     "data": {
      "text/html": [
       "<div>\n",
       "<style scoped>\n",
       "    .dataframe tbody tr th:only-of-type {\n",
       "        vertical-align: middle;\n",
       "    }\n",
       "\n",
       "    .dataframe tbody tr th {\n",
       "        vertical-align: top;\n",
       "    }\n",
       "\n",
       "    .dataframe thead th {\n",
       "        text-align: right;\n",
       "    }\n",
       "</style>\n",
       "<table border=\"1\" class=\"dataframe\">\n",
       "  <thead>\n",
       "    <tr style=\"text-align: right;\">\n",
       "      <th></th>\n",
       "      <th>transactionId</th>\n",
       "      <th>basket</th>\n",
       "      <th>customerType</th>\n",
       "      <th>totalAmount</th>\n",
       "      <th>returnLabel</th>\n",
       "    </tr>\n",
       "  </thead>\n",
       "  <tbody>\n",
       "    <tr>\n",
       "      <th>0</th>\n",
       "      <td>9534310106</td>\n",
       "      <td>[4, 3, 4]</td>\n",
       "      <td>new</td>\n",
       "      <td>252.0</td>\n",
       "      <td>1</td>\n",
       "    </tr>\n",
       "    <tr>\n",
       "      <th>1</th>\n",
       "      <td>7202594767</td>\n",
       "      <td>[4, 2, 0, 2, 5]</td>\n",
       "      <td>existing</td>\n",
       "      <td>70.0</td>\n",
       "      <td>0</td>\n",
       "    </tr>\n",
       "    <tr>\n",
       "      <th>2</th>\n",
       "      <td>2737331698</td>\n",
       "      <td>[5]</td>\n",
       "      <td>existing</td>\n",
       "      <td>84.0</td>\n",
       "      <td>0</td>\n",
       "    </tr>\n",
       "    <tr>\n",
       "      <th>3</th>\n",
       "      <td>4868011733</td>\n",
       "      <td>[1, 4, 2, 4]</td>\n",
       "      <td>existing</td>\n",
       "      <td>116.0</td>\n",
       "      <td>0</td>\n",
       "    </tr>\n",
       "    <tr>\n",
       "      <th>4</th>\n",
       "      <td>7622406570</td>\n",
       "      <td>[2, 5, 3, 2, 3, 2, 0]</td>\n",
       "      <td>existing</td>\n",
       "      <td>378.0</td>\n",
       "      <td>0</td>\n",
       "    </tr>\n",
       "  </tbody>\n",
       "</table>\n",
       "</div>"
      ],
      "text/plain": [
       "   transactionId                 basket customerType  totalAmount  returnLabel\n",
       "0     9534310106              [4, 3, 4]          new        252.0            1\n",
       "1     7202594767        [4, 2, 0, 2, 5]     existing         70.0            0\n",
       "2     2737331698                    [5]     existing         84.0            0\n",
       "3     4868011733           [1, 4, 2, 4]     existing        116.0            0\n",
       "4     7622406570  [2, 5, 3, 2, 3, 2, 0]     existing        378.0            0"
      ]
     },
     "execution_count": 2,
     "metadata": {},
     "output_type": "execute_result"
    }
   ],
   "source": [
    "import pandas as pd\n",
    "\n",
    "# Trainingsdaten aus csv laden, der seperator ist hier allerdings ein ';'\n",
    "data_train = pd.read_csv(\"./data/project/train.csv\", sep=\";\")\n",
    "\n",
    "data_train.head()"
   ]
  },
  {
   "cell_type": "markdown",
   "id": "5171b937",
   "metadata": {},
   "source": [
    "#### 2. Führen Sie eine kurze EDA durch (Details auf Slide 14)."
   ]
  },
  {
   "cell_type": "markdown",
   "id": "8c54cb0f",
   "metadata": {},
   "source": [
    "**Exploratory Data Analysis** oder kurz **EDA** ist der Prozess Daten über verschiedene Darstellungen, primär grafische Darstellungen, zu betrachten um einen überblick zu erlangen und erste Muster oder Abweichungen zu erkennen oder auch Hypothesen und Annahmen zu prüfen.\n",
    "\n",
    "\n",
    "- `figsize`: die Größe des Plottes der angezeigt werden soll\n",
    "- `rot`: die Rotation des Textes im Plot\n",
    "\n",
    "Wir bereiten hier die Daten zunächst so auf, dass aus den erzeugten Diagrammen einfacher Informationen abgelesen werden können."
   ]
  },
  {
   "cell_type": "code",
   "execution_count": 27,
   "id": "f64396a8",
   "metadata": {},
   "outputs": [],
   "source": [
    "plotable_data = data_train\n",
    "\n",
    "# daten aufbereiten um sie besser ablesen zu können\n",
    "plotable_data['returnLabel'] = plotable_data['returnLabel'].replace({0:'bought',1:'returned'})"
   ]
  },
  {
   "cell_type": "markdown",
   "id": "c8b0a3b2",
   "metadata": {},
   "source": [
    "##### 2.1 Histogram für `customerType`\n",
    "Hier wird gezeigt wie viele Bestellungen von Neukunden bzw Bestandskunden ausgingen."
   ]
  },
  {
   "cell_type": "code",
   "execution_count": 111,
   "id": "216f304f",
   "metadata": {},
   "outputs": [
    {
     "data": {
      "text/plain": [
       "<AxesSubplot:title={'center':'customerType'}>"
      ]
     },
     "execution_count": 111,
     "metadata": {},
     "output_type": "execute_result"
    },
    {
     "data": {
      "image/png": "[encoded data removed]",
      "text/plain": [
       "<Figure size 432x288 with 1 Axes>"
      ]
     },
     "metadata": {
      "needs_background": "light"
     },
     "output_type": "display_data"
    }
   ],
   "source": [
    "# histogram für 'customerType'\n",
    "plotable_data['customerType'].value_counts().plot(kind='bar', title='customerType', rot=0)"
   ]
  },
  {
   "cell_type": "markdown",
   "id": "33a1f2de",
   "metadata": {},
   "source": [
    "##### 2.2 Histogram für `customerType`\n",
    "Hier wird gezeigt wie viele Bestellungen in einem interval von ~125€ liegen. Es ist zu sehen, dass günstige Bestellungen bis 125€ deutlich häufiger auftreten als Bestellugen von 125-250€.\\\n",
    "Außerdem ist zu sehen, dass gut über 50% der Bestellugen weniger als 250€ kosten."
   ]
  },
  {
   "cell_type": "code",
   "execution_count": 112,
   "id": "21228dce",
   "metadata": {},
   "outputs": [
    {
     "name": "stdout",
     "output_type": "stream",
     "text": [
      "22400\n"
     ]
    },
    {
     "data": {
      "image/png": "[encoded data removed]",
      "text/plain": [
       "<Figure size 432x288 with 1 Axes>"
      ]
     },
     "metadata": {
      "needs_background": "light"
     },
     "output_type": "display_data"
    }
   ],
   "source": [
    "# histogram für 'totalAmount'\n",
    "# bins ist die Anzahl der Intervalle in welche das Histogram aufgeteilt werden soll.\n",
    "plotable_data.hist(column='totalAmount',bins=16)\n",
    "print(len(plotable_data))\n"
   ]
  },
  {
   "cell_type": "markdown",
   "id": "f0a5852b",
   "metadata": {},
   "source": [
    "##### 2.3 Histogram für `returnLabel`\n",
    "Zu sehen ist das Histogram für `returnLabel`. Es zeigt uns die Aufteilung, wie viele Bestellungen insgesamt zurückgeschickt oder nicht zurückgeschickt wurden."
   ]
  },
  {
   "cell_type": "code",
   "execution_count": 65,
   "id": "dd24f3b7",
   "metadata": {},
   "outputs": [
    {
     "name": "stdout",
     "output_type": "stream",
     "text": [
      "Bei ~ 29.7 % der Bestellungen wird etwas zurück gesendet.\n"
     ]
    },
    {
     "data": {
      "image/png": "[encoded data removed]",
      "text/plain": [
       "<Figure size 432x288 with 1 Axes>"
      ]
     },
     "metadata": {
      "needs_background": "light"
     },
     "output_type": "display_data"
    }
   ],
   "source": [
    "# verteilung von returnLabel als plot\n",
    "plotable_data['returnLabel'].value_counts().plot(kind='bar', title='returnLabel',rot=0)\n",
    "\n",
    "returnData = plotable_data['returnLabel'].value_counts()\n",
    "percentReturned = returnData['returned']/(returnData['bought']+returnData['returned'])\n",
    "\n",
    "print(\"Bei ~\",(percentReturned*100).round(2),\"% der Bestellungen wird etwas zurück gesendet.\")"
   ]
  },
  {
   "cell_type": "markdown",
   "id": "f310cab2",
   "metadata": {},
   "source": [
    "##### 2.4 Histogram für `returnLabel` in Abhängigkeit zu `reuturnLabel`\n",
    "Der Folgende Graph ist eine erweiterung des vorherigen und zeigt jede Kundengruppe (neuer Kunde & existierender Kunde) und wie oft eine Bestellung zurück gegangen ist. Dabei ist klar zu erkennen, dass Neukunden fast gleich viel zurücksenden wie behalten, Bestandskunden hingegen senden seltener ihre Bestellung zurück.\\\n",
    "Außerdem kann man auch gut erkennen, dass Bestandskunden einen wesentlich größeren Teil der Bestellungen ausmachen."
   ]
  },
  {
   "cell_type": "code",
   "execution_count": 66,
   "id": "e00b5bd2",
   "metadata": {},
   "outputs": [
    {
     "data": {
      "text/plain": [
       "<AxesSubplot:title={'center':'returnLabel in abhängigkeit von customerType'}, xlabel='returnLabel,customerType'>"
      ]
     },
     "execution_count": 66,
     "metadata": {},
     "output_type": "execute_result"
    },
    {
     "data": {
      "image/png": "[encoded data removed]",
      "text/plain": [
       "<Figure size 720x360 with 1 Axes>"
      ]
     },
     "metadata": {
      "needs_background": "light"
     },
     "output_type": "display_data"
    }
   ],
   "source": [
    "# return label in abhängigkeit von customerType plotten\n",
    "plotable_data[['returnLabel','customerType']].value_counts().plot.bar(rot=0,figsize=(10,5),title='returnLabel in abhängigkeit von customerType')\n"
   ]
  },
  {
   "cell_type": "markdown",
   "id": "9cf6c1c5",
   "metadata": {},
   "source": [
    "##### 2.5 Boxplot für `totalAmount`\n",
    "Für die folgenden wird ein Boxplot dargestellt. Der Boxplot beschreibt die Verteilung der Daten.\\\n",
    "Ausreißer werden wie folgt berechnet:\\\n",
    "Nach unten: 25%-Quantil - 1.5*(75%-Quantil - 25%-Quantil)\\\n",
    "Nach oben: 75%-Quantil + 1.5*(75%-Quantil - 25%-Quantil)\n",
    "\n",
    "# TODO!!"
   ]
  },
  {
   "cell_type": "code",
   "execution_count": 68,
   "id": "8ed7740f",
   "metadata": {},
   "outputs": [
    {
     "data": {
      "text/plain": [
       "<AxesSubplot:title={'center':'totalAmount'}, xlabel='returnLabel'>"
      ]
     },
     "execution_count": 68,
     "metadata": {},
     "output_type": "execute_result"
    },
    {
     "data": {
      "image/png": "[encoded data removed]",
      "text/plain": [
       "<Figure size 216x360 with 1 Axes>"
      ]
     },
     "metadata": {
      "needs_background": "light"
     },
     "output_type": "display_data"
    }
   ],
   "source": [
    "# boxplot für 'totalAmount' in Abhängigkeit von 'returnLabel'\n",
    "plotable_data.boxplot(column='totalAmount', by='returnLabel',figsize=(3,5))"
   ]
  },
  {
   "cell_type": "markdown",
   "id": "45684604",
   "metadata": {},
   "source": [
    "##### 2.5 Histogram für `totalAmount` mit Abhängigkeit zu `returnLabel`\n",
    "Das hier gezeigte Histogram zeigt deutlich, das teurere Bestellungen öfter zurück gesendet werden. Dies ist an der Differenz zwischen `returned` und `bought` zu erkennen, welche je teurer es wird, kleiner wird.\\\n",
    "- `hue`: beschreibt die Farbe für die übereinander liegenden Histogramme (`returned` und `bought`)"
   ]
  },
  {
   "cell_type": "code",
   "execution_count": 109,
   "id": "fa7cab45",
   "metadata": {},
   "outputs": [
    {
     "data": {
      "text/plain": [
       "<seaborn.axisgrid.FacetGrid at 0x20939df5190>"
      ]
     },
     "execution_count": 109,
     "metadata": {},
     "output_type": "execute_result"
    },
    {
     "data": {
      "image/png": "[encoded data removed]",
      "text/plain": [
       "<Figure size 439.125x360 with 1 Axes>"
      ]
     },
     "metadata": {
      "needs_background": "light"
     },
     "output_type": "display_data"
    }
   ],
   "source": [
    "import seaborn as sns\n",
    "\n",
    "sns.displot(plotable_data, x=\"totalAmount\", hue=\"returnLabel\")"
   ]
  },
  {
   "cell_type": "markdown",
   "id": "c8c7bfb3",
   "metadata": {},
   "source": [
    "#### 3. Füllen Sie fehlende Werte in den Trainingsdaten auf."
   ]
  },
  {
   "cell_type": "markdown",
   "id": "d7cb1ebd",
   "metadata": {},
   "source": [
    "Hier werden alle Zeilen aufgefüllt, in denen `totalAmount` keinen Wert, bzw einen ungültigen Wert besitzt. Dazu wird der Durchschnitt der übrigen Werte genutzt. Der Durchschnitt wird genutzt da dieser die Gewichtung des Kompletten Datensatzes nicht beeinflusst.\n",
    "\n",
    "Es wird ausschließlich `totalAmount` aufgefüllt, da `totalAmount` ein nummerischer Wert ist. Alle anderen Feature, welche auch bereinigt werden müssen, werden auf eine andere Art und Weise behandelt, da es sich bei diesen nicht um nummerische sondern kategorische Feature handelt. "
   ]
  },
  {
   "cell_type": "code",
   "execution_count": 4,
   "id": "0d716063",
   "metadata": {},
   "outputs": [
    {
     "name": "stdout",
     "output_type": "stream",
     "text": [
      "transactionId      0\n",
      "basket             0\n",
      "customerType     442\n",
      "totalAmount      477\n",
      "returnLabel        0\n",
      "dtype: int64\n",
      "transactionId      0\n",
      "basket             0\n",
      "customerType     442\n",
      "totalAmount        0\n",
      "returnLabel        0\n",
      "dtype: int64\n"
     ]
    }
   ],
   "source": [
    "# warum füllen wir die ausgewählten trainingsdaten auf und nicht die andern?\n",
    "# hier wird der median genutzt um die null Werte von totalAmount zu ersetzen, der Durchschnitt wird genutzt da dieser keine verzerrung der tendenzen der daten einfuehrt\n",
    "# customerType wird später beim OnehotEncoding bearbeitet und die null values dadurch entfernt\n",
    "\n",
    "print(data_train.isnull().sum())\n",
    "data_train['totalAmount'].fillna(data_train['totalAmount'].mean(), inplace=True)\n",
    "print(data_train.isnull().sum())"
   ]
  },
  {
   "cell_type": "markdown",
   "id": "d9dd59e0",
   "metadata": {},
   "source": [
    "#### 4. Transformieren Sie die kategorischen Features mittels One-hot-encoding."
   ]
  },
  {
   "cell_type": "markdown",
   "id": "acb1d029",
   "metadata": {},
   "source": [
    "Hier werden die kategorischen Features `customerType` und `returnLabel` \"One-hot-encoded\". Das heißt jedes kategorische Feature wird in mehrere Feature transformiert, um genau zu sein in so viele wie es kategorien in dem Featrue gibt.\\\n",
    "One-hot-encoding bietet den Vorteil, dass auch Tupel/Zeilen zum lernen verwendet werden können, in denen die Datenpunkte fehlen.\\\n",
    "Wir teilen wie folgt auf:\n",
    "- `customerType` :\n",
    "    - `is_new_customer` => 1 wenn `customerType` = \"new\", ansonsten 0\n",
    "    - `is_existing_customer` => 1 wenn `customerType` = \"existing\", ansonsten 0\n",
    "\n",
    "Da in `returnLabel` keine Daten fehlen und es sich um eine binäre klassifizierung handelt ist ein klassisches One-hot-encoding nicht nötig. Statdessen wird direkt in `was_returned` transformiert.\n",
    "- `returnLabel`\n",
    "    - `was_returned` => 1 wenn `returnLabel` = \"returned\", 0 falls `returnLabel` = \"bought\""
   ]
  },
  {
   "cell_type": "code",
   "execution_count": 5,
   "id": "665f1da1",
   "metadata": {},
   "outputs": [
    {
     "data": {
      "text/html": [
       "<div>\n",
       "<style scoped>\n",
       "    .dataframe tbody tr th:only-of-type {\n",
       "        vertical-align: middle;\n",
       "    }\n",
       "\n",
       "    .dataframe tbody tr th {\n",
       "        vertical-align: top;\n",
       "    }\n",
       "\n",
       "    .dataframe thead th {\n",
       "        text-align: right;\n",
       "    }\n",
       "</style>\n",
       "<table border=\"1\" class=\"dataframe\">\n",
       "  <thead>\n",
       "    <tr style=\"text-align: right;\">\n",
       "      <th></th>\n",
       "      <th>transactionId</th>\n",
       "      <th>basket</th>\n",
       "      <th>totalAmount</th>\n",
       "      <th>is_new_customer</th>\n",
       "      <th>is_existing_customer</th>\n",
       "      <th>was_returned</th>\n",
       "    </tr>\n",
       "  </thead>\n",
       "  <tbody>\n",
       "    <tr>\n",
       "      <th>0</th>\n",
       "      <td>9534310106</td>\n",
       "      <td>[4, 3, 4]</td>\n",
       "      <td>252.0</td>\n",
       "      <td>1.0</td>\n",
       "      <td>0.0</td>\n",
       "      <td>1</td>\n",
       "    </tr>\n",
       "    <tr>\n",
       "      <th>1</th>\n",
       "      <td>7202594767</td>\n",
       "      <td>[4, 2, 0, 2, 5]</td>\n",
       "      <td>70.0</td>\n",
       "      <td>0.0</td>\n",
       "      <td>1.0</td>\n",
       "      <td>0</td>\n",
       "    </tr>\n",
       "    <tr>\n",
       "      <th>2</th>\n",
       "      <td>2737331698</td>\n",
       "      <td>[5]</td>\n",
       "      <td>84.0</td>\n",
       "      <td>0.0</td>\n",
       "      <td>1.0</td>\n",
       "      <td>0</td>\n",
       "    </tr>\n",
       "    <tr>\n",
       "      <th>3</th>\n",
       "      <td>4868011733</td>\n",
       "      <td>[1, 4, 2, 4]</td>\n",
       "      <td>116.0</td>\n",
       "      <td>0.0</td>\n",
       "      <td>1.0</td>\n",
       "      <td>0</td>\n",
       "    </tr>\n",
       "    <tr>\n",
       "      <th>4</th>\n",
       "      <td>7622406570</td>\n",
       "      <td>[2, 5, 3, 2, 3, 2, 0]</td>\n",
       "      <td>378.0</td>\n",
       "      <td>0.0</td>\n",
       "      <td>1.0</td>\n",
       "      <td>0</td>\n",
       "    </tr>\n",
       "  </tbody>\n",
       "</table>\n",
       "</div>"
      ],
      "text/plain": [
       "   transactionId                 basket  totalAmount  is_new_customer  \\\n",
       "0     9534310106              [4, 3, 4]        252.0              1.0   \n",
       "1     7202594767        [4, 2, 0, 2, 5]         70.0              0.0   \n",
       "2     2737331698                    [5]         84.0              0.0   \n",
       "3     4868011733           [1, 4, 2, 4]        116.0              0.0   \n",
       "4     7622406570  [2, 5, 3, 2, 3, 2, 0]        378.0              0.0   \n",
       "\n",
       "   is_existing_customer  was_returned  \n",
       "0                   0.0             1  \n",
       "1                   1.0             0  \n",
       "2                   1.0             0  \n",
       "3                   1.0             0  \n",
       "4                   1.0             0  "
      ]
     },
     "execution_count": 5,
     "metadata": {},
     "output_type": "execute_result"
    }
   ],
   "source": [
    "# berechne feature und füge die berechneten feature dem DatenFrame hinzu\n",
    "data_train['is_new_customer'] = data_train['customerType'].replace({'existing': 0, 'new': 1}).fillna(0)\n",
    "data_train['is_existing_customer'] = data_train['customerType'].replace({'existing': 1, 'new': 0}).fillna(0)\n",
    "data_train['was_returned'] = data_train['returnLabel'].replace({'bought': 0, 'returned': 1})\n",
    "\n",
    "# nicht benötigte feature löschen\n",
    "data_train.drop(['customerType'], axis=1, inplace=True)\n",
    "data_train.drop(['returnLabel'], axis=1, inplace=True)\n",
    "\n",
    "# datensatz anschauen\n",
    "data_train.head()"
   ]
  },
  {
   "cell_type": "markdown",
   "id": "5c328ccd",
   "metadata": {},
   "source": [
    "#### 5. Versuchen Sie auf Basis des Attributs basket Features zu bauen (z.B. wie oft kommt jede Kategorie im Basket vor)"
   ]
  },
  {
   "cell_type": "markdown",
   "id": "b23a121c",
   "metadata": {},
   "source": [
    "In diesem Teil werden geeignete Features aus dem Feature `basket` erzeugt:\n",
    "\n",
    "| Feature       | Beschreibung                                                          |\n",
    "|---------------|-----------------------------------------------------------------------|\n",
    "| `zero_count`  | die Anzahl von bestellten Büchern der Kategorie 0                     |\n",
    "| `one_count`   | die Anzahl von bestellten Büchern der Kategorie 1                     |\n",
    "| `two_count`   | die Anzahl von bestellten Büchern der Kategorie 2                     |\n",
    "| `three_count` | die Anzahl von bestellten Büchern der Kategorie 3                     |\n",
    "| `four_count`  | die Anzahl von bestellten Büchern der Kategorie 4                     |\n",
    "| `five_count`  | die Anzahl von bestellten Büchern der Kategorie 5                     |\n",
    "| `max_count`   | die maximale Anzahl von bestellten Büchern aus der gleichen Kategorie |\n",
    "| `basket_size` | die Anzahl von bestellten Büchern                                     |\n",
    "\n",
    "\n",
    "Hier wird oft die .map() Funktion genutz. Map is eine Funktion die jedem Element einer Menge einen neuen Wert zuordnet. Dieser wert wird über die übergebene lamda funktion ermittelt. \n",
    "Für `zero_count` sieht die Funktion wie folgt aus (x entspricht hierbei einem Basket, bspw: [1,2,4,5,0]):\\\n",
    "x ⟼ x.count('0')"
   ]
  },
  {
   "cell_type": "code",
   "execution_count": 6,
   "id": "5871f512",
   "metadata": {},
   "outputs": [
    {
     "data": {
      "text/html": [
       "<div>\n",
       "<style scoped>\n",
       "    .dataframe tbody tr th:only-of-type {\n",
       "        vertical-align: middle;\n",
       "    }\n",
       "\n",
       "    .dataframe tbody tr th {\n",
       "        vertical-align: top;\n",
       "    }\n",
       "\n",
       "    .dataframe thead th {\n",
       "        text-align: right;\n",
       "    }\n",
       "</style>\n",
       "<table border=\"1\" class=\"dataframe\">\n",
       "  <thead>\n",
       "    <tr style=\"text-align: right;\">\n",
       "      <th></th>\n",
       "      <th>transactionId</th>\n",
       "      <th>totalAmount</th>\n",
       "      <th>is_new_customer</th>\n",
       "      <th>is_existing_customer</th>\n",
       "      <th>was_returned</th>\n",
       "      <th>zero_count</th>\n",
       "      <th>one_count</th>\n",
       "      <th>two_count</th>\n",
       "      <th>three_count</th>\n",
       "      <th>four_count</th>\n",
       "      <th>five_count</th>\n",
       "      <th>basket_size</th>\n",
       "      <th>max_count</th>\n",
       "    </tr>\n",
       "  </thead>\n",
       "  <tbody>\n",
       "    <tr>\n",
       "      <th>0</th>\n",
       "      <td>9534310106</td>\n",
       "      <td>252.0</td>\n",
       "      <td>1.0</td>\n",
       "      <td>0.0</td>\n",
       "      <td>1</td>\n",
       "      <td>0</td>\n",
       "      <td>0</td>\n",
       "      <td>0</td>\n",
       "      <td>1</td>\n",
       "      <td>2</td>\n",
       "      <td>0</td>\n",
       "      <td>3</td>\n",
       "      <td>2</td>\n",
       "    </tr>\n",
       "    <tr>\n",
       "      <th>1</th>\n",
       "      <td>7202594767</td>\n",
       "      <td>70.0</td>\n",
       "      <td>0.0</td>\n",
       "      <td>1.0</td>\n",
       "      <td>0</td>\n",
       "      <td>1</td>\n",
       "      <td>0</td>\n",
       "      <td>2</td>\n",
       "      <td>0</td>\n",
       "      <td>1</td>\n",
       "      <td>1</td>\n",
       "      <td>5</td>\n",
       "      <td>2</td>\n",
       "    </tr>\n",
       "    <tr>\n",
       "      <th>2</th>\n",
       "      <td>2737331698</td>\n",
       "      <td>84.0</td>\n",
       "      <td>0.0</td>\n",
       "      <td>1.0</td>\n",
       "      <td>0</td>\n",
       "      <td>0</td>\n",
       "      <td>0</td>\n",
       "      <td>0</td>\n",
       "      <td>0</td>\n",
       "      <td>0</td>\n",
       "      <td>1</td>\n",
       "      <td>1</td>\n",
       "      <td>1</td>\n",
       "    </tr>\n",
       "    <tr>\n",
       "      <th>3</th>\n",
       "      <td>4868011733</td>\n",
       "      <td>116.0</td>\n",
       "      <td>0.0</td>\n",
       "      <td>1.0</td>\n",
       "      <td>0</td>\n",
       "      <td>0</td>\n",
       "      <td>1</td>\n",
       "      <td>1</td>\n",
       "      <td>0</td>\n",
       "      <td>2</td>\n",
       "      <td>0</td>\n",
       "      <td>4</td>\n",
       "      <td>2</td>\n",
       "    </tr>\n",
       "    <tr>\n",
       "      <th>4</th>\n",
       "      <td>7622406570</td>\n",
       "      <td>378.0</td>\n",
       "      <td>0.0</td>\n",
       "      <td>1.0</td>\n",
       "      <td>0</td>\n",
       "      <td>1</td>\n",
       "      <td>0</td>\n",
       "      <td>3</td>\n",
       "      <td>2</td>\n",
       "      <td>0</td>\n",
       "      <td>1</td>\n",
       "      <td>7</td>\n",
       "      <td>3</td>\n",
       "    </tr>\n",
       "  </tbody>\n",
       "</table>\n",
       "</div>"
      ],
      "text/plain": [
       "   transactionId  totalAmount  is_new_customer  is_existing_customer  \\\n",
       "0     9534310106        252.0              1.0                   0.0   \n",
       "1     7202594767         70.0              0.0                   1.0   \n",
       "2     2737331698         84.0              0.0                   1.0   \n",
       "3     4868011733        116.0              0.0                   1.0   \n",
       "4     7622406570        378.0              0.0                   1.0   \n",
       "\n",
       "   was_returned  zero_count  one_count  two_count  three_count  four_count  \\\n",
       "0             1           0          0          0            1           2   \n",
       "1             0           1          0          2            0           1   \n",
       "2             0           0          0          0            0           0   \n",
       "3             0           0          1          1            0           2   \n",
       "4             0           1          0          3            2           0   \n",
       "\n",
       "   five_count  basket_size  max_count  \n",
       "0           0            3          2  \n",
       "1           1            5          2  \n",
       "2           1            1          1  \n",
       "3           0            4          2  \n",
       "4           1            7          3  "
      ]
     },
     "execution_count": 6,
     "metadata": {},
     "output_type": "execute_result"
    }
   ],
   "source": [
    "# warum nutzten wir diese feature, was könnte man noch für feature benutzen? => warum haben wir sie nicht benutzt?\n",
    "\n",
    "# berechne feature und füge die berechneten feature dem DatenFrame hinzu\n",
    "data_train['zero_count'] = data_train.basket.map(lambda x: x.count('0'))\n",
    "data_train['one_count'] = data_train.basket.map(lambda x: x.count('1'))\n",
    "data_train['two_count'] = data_train.basket.map(lambda x: x.count('2'))\n",
    "data_train['three_count'] = data_train.basket.map(lambda x: x.count('3'))\n",
    "data_train['four_count'] = data_train.basket.map(lambda x: x.count('4'))\n",
    "data_train['five_count'] = data_train.basket.map(lambda x: x.count('5'))\n",
    "\n",
    "data_train['basket_size'] = data_train.basket.map(lambda x: x.count('0') + x.count('1') + x.count('2') + x.count('3') + x.count('4') + x.count('5'))\n",
    "\n",
    "data_train['max_count'] = data_train.basket.map(lambda x: max(x.count('0'), x.count('1'), x.count('2'), x.count('3'), x.count('4'), x.count('5')))\n",
    "\n",
    "# nicht benötigte feature löschen\n",
    "data_train.drop(['basket'], axis=1, inplace=True)\n",
    "\n",
    "# datensatz anschauen\n",
    "data_train.head()"
   ]
  },
  {
   "cell_type": "markdown",
   "id": "8d2d915d",
   "metadata": {},
   "source": [
    "Zusätzlich sollten alle Feature entfernt werden, welche offensichtlich kein zusammenhang mit der vorhersage haben, das ist in unserm Fall nur die `transactionId`."
   ]
  },
  {
   "cell_type": "code",
   "execution_count": 7,
   "id": "f40382d8",
   "metadata": {},
   "outputs": [],
   "source": [
    "data_train.drop(['transactionId'], axis=1, inplace=True)"
   ]
  },
  {
   "cell_type": "markdown",
   "id": "58b091b9",
   "metadata": {},
   "source": [
    "#### 6. Skalieren Sie die Features mit einem StandardScaler."
   ]
  },
  {
   "cell_type": "code",
   "execution_count": 8,
   "id": "034ebe32",
   "metadata": {},
   "outputs": [
    {
     "name": "stdout",
     "output_type": "stream",
     "text": [
      "[[-0.03282349  1.55861197 -1.48725587 ... -0.64410553 -0.60727524\n",
      "  -0.13935946]\n",
      " [-0.87945944 -0.64159651  0.67237926 ...  0.52709049  0.13320354\n",
      "  -0.13935946]\n",
      " [-0.8143336  -0.64159651  0.67237926 ...  0.52709049 -1.34775403\n",
      "  -1.01426189]\n",
      " ...\n",
      " [-0.04677903  1.55861197 -1.48725587 ... -0.64410553 -0.60727524\n",
      "  -1.01426189]\n",
      " [-0.83294098 -0.64159651  0.67237926 ...  2.86948253  1.24392171\n",
      "   0.73554297]\n",
      " [ 1.08361952  1.55861197 -1.48725587 ... -0.64410553 -0.23703585\n",
      "  -0.13935946]]\n"
     ]
    }
   ],
   "source": [
    "from sklearn.preprocessing import StandardScaler\n",
    "X_train = data_train.drop(['was_returned'], axis=1)\n",
    "Y_train = data_train['was_returned']\n",
    "scaler = StandardScaler().fit(X_train)\n",
    "X_scaled = scaler.transform(X_train)\n",
    "#data_scaled[data_train.columns] = scaler.transform(data_train[data_train.columns])\n",
    "print(X_scaled)\n",
    "\n",
    "\n",
    "\n",
    "\n"
   ]
  },
  {
   "cell_type": "markdown",
   "id": "5e30e503",
   "metadata": {},
   "source": [
    "### 7. Trainieren Sie die folgenden Klassifikationsmodelle und probieren Sie die angegebenen Hyperparameter mittels Cross-Validation aus:"
   ]
  },
  {
   "cell_type": "markdown",
   "id": "8482adaa",
   "metadata": {},
   "source": [
    "##### 7.1. Logistische Regression: C :[0.1,1,4,5,6,10,30,100] und penalty: [\"l1\", \"l2\"]"
   ]
  },
  {
   "cell_type": "code",
   "execution_count": 18,
   "id": "05674e1c",
   "metadata": {},
   "outputs": [
    {
     "name": "stdout",
     "output_type": "stream",
     "text": [
      "{'C': 1, 'penalty': 'l1'}\n"
     ]
    }
   ],
   "source": [
    "from sklearn.linear_model import LogisticRegression\n",
    "from sklearn.model_selection import GridSearchCV\n",
    "parameters = {'C': [0.1,1,4,5,10,30,100], 'penalty': [\"l1\",\"l2\"]}\n",
    "grid_search = GridSearchCV(LogisticRegression(solver='liblinear'), parameters, n_jobs=-1, scoring='accuracy')\n",
    "grid_search.fit(X_scaled, Y_train)\n",
    "logReg_best_params = grid_search.best_params_\n",
    "print(logReg_best_params)"
   ]
  },
  {
   "cell_type": "markdown",
   "id": "78b7bc31",
   "metadata": {},
   "source": [
    "#### 7.2. Random Forest: n_estimators: [60,80,100,120,140] und max_depth: [2, 4, 6]"
   ]
  },
  {
   "cell_type": "markdown",
   "id": "19d2654b",
   "metadata": {},
   "source": [
    "\n",
    "##### 7.3. Gradient Boosting Tree: gleiche Hyperparameter wie bei Random Forest."
   ]
  },
  {
   "cell_type": "markdown",
   "id": "6081c6ba",
   "metadata": {},
   "source": [
    "### 8. Laden Sie die Testdaten."
   ]
  },
  {
   "cell_type": "markdown",
   "id": "d9222589",
   "metadata": {},
   "source": [
    "### 9. Entfernen Sie alle Zeilen mit fehlenden Werten."
   ]
  },
  {
   "cell_type": "markdown",
   "id": "ff7d1fda",
   "metadata": {},
   "source": [
    "### 10. Transformieren Sie die Attribute genauso wie bei den Trainingsdaten."
   ]
  },
  {
   "cell_type": "markdown",
   "id": "144123d6",
   "metadata": {},
   "source": [
    "### 11. Skalieren Sie die Daten im gleichem Maß wie die Trainingsdaten."
   ]
  },
  {
   "cell_type": "markdown",
   "id": "79d8bc52",
   "metadata": {},
   "source": [
    "### 12. Machen Sie eine Vorhersage auf den Testdaten mit allen drei Modellen und den jeweils besten Hyperparametern aus der Cross Validation."
   ]
  },
  {
   "cell_type": "markdown",
   "id": "f8875e50",
   "metadata": {},
   "source": [
    "### 13. Berechnen Sie für jedes der drei Modell Accuracy, Precision und Recall."
   ]
  },
  {
   "cell_type": "markdown",
   "id": "8114010e",
   "metadata": {},
   "source": [
    "### 14. Berechnen Sie außerdem die Accuracy auf den Trainingsdaten und vergleichen Sie Accuracy auf Trainings- und Testdaten. Liegt Overfitting vor?"
   ]
  },
  {
   "cell_type": "markdown",
   "id": "c787120c",
   "metadata": {},
   "source": [
    "### 15. Untersuchen Sie wieviele Datenpunkte es in den Testdaten gibt, welche von allen drei Modellen falsch klassifiziert wurden:"
   ]
  },
  {
   "cell_type": "markdown",
   "id": "17efe79b",
   "metadata": {},
   "source": [
    "#### 1. Bestimmen Sie für jedes der drei Modelle die Indizes der Testdatenpunkte auf welchen das jeweilige Modell falsch klassifiziert hat."
   ]
  },
  {
   "cell_type": "markdown",
   "id": "2f4cb1c2",
   "metadata": {},
   "source": [
    "#### 2. Nutzen Sie die set-Klasse in Python um die Anzahl an Datenpunkten zu bestimmen, welche von allen drei Modellen falsch klassifiziert wurden."
   ]
  }
 ],
 "metadata": {
  "kernelspec": {
   "display_name": "Python 3.8.12 ('ml-env')",
   "language": "python",
   "name": "python3"
  },
  "language_info": {
   "codemirror_mode": {
    "name": "ipython",
    "version": 3
   },
   "file_extension": ".py",
   "mimetype": "text/x-python",
   "name": "python",
   "nbconvert_exporter": "python",
   "pygments_lexer": "ipython3",
   "version": "3.8.12"
  },
  "vscode": {
   "interpreter": {
    "hash": "07f547f0f1201bd81c95ff6892a7173a878d57f9e39e7824fccd959928365179"
   }
  }
 },
 "nbformat": 4,
 "nbformat_minor": 5
}
